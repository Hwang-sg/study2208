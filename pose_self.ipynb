{
  "nbformat": 4,
  "nbformat_minor": 0,
  "metadata": {
    "colab": {
      "name": "pose_self.ipynb",
      "provenance": [],
      "collapsed_sections": []
    },
    "kernelspec": {
      "name": "python3",
      "display_name": "Python 3"
    },
    "language_info": {
      "name": "python"
    }
  },
  "cells": [
    {
      "cell_type": "markdown",
      "source": [
        "#파일 다운로드\n",
        "\n",
        "\n",
        "```\n",
        "#\n",
        "1. 파일 링크로 부터 다운로드 받기\n",
        "!rm -rf dogs_prepared.tar.gz\n",
        "!wget https://github.com/dhrim/2022_WISET/raw/main/material/deep_learning/dogs_prepared.tar.gz\n",
        "!ls -al  \n",
        "\n",
        "2. 구글 드라이브로 부터 다운로드 받기\n",
        "from google.colab import drive\n",
        "drive.mount(\"구글 드라이브 경로\")\n",
        "%cd 압축 풀 경로\n",
        "!unzip '압축파일 경로'\n",
        "이후에 len(file명) = 압축잘 풀렸나 확인해보기\n",
        "\n",
        "ex) \n",
        "from google.colab import drive\n",
        "drive.mount('/gdrive')\n",
        "\n",
        "\n",
        "3.파일 직접 업로드\n",
        "cd 업로드할 디렉토리명\n",
        "!mkdir 만들 디렉토리명\n",
        "pwd 현재 있는 디렉토리 위치\n",
        "\n",
        "파일 업로드\n",
        "from google.colab import files\n",
        "file_uploaded = files.upload()\n",
        "\n",
        "파일 선택후 업로드 해주면 됨\n",
        "\n",
        "'''\n",
        "\n",
        "\n",
        "\n"
      ],
      "metadata": {
        "id": "VectNIumykfn"
      }
    },
    {
      "cell_type": "code",
      "source": [
        "from google.colab import drive\n",
        "drive.mount('/gdrive')"
      ],
      "metadata": {
        "colab": {
          "base_uri": "https://localhost:8080/"
        },
        "id": "eS2Xp_QB03PO",
        "outputId": "a70d0a79-3827-4126-9938-7239e6444c34"
      },
      "execution_count": 1,
      "outputs": [
        {
          "output_type": "stream",
          "name": "stdout",
          "text": [
            "Mounted at /gdrive\n"
          ]
        }
      ]
    },
    {
      "cell_type": "code",
      "source": [
        "cd MyDrive"
      ],
      "metadata": {
        "colab": {
          "base_uri": "https://localhost:8080/"
        },
        "id": "OU5GsI9i1Lpy",
        "outputId": "972e908f-fc57-4486-b4db-f7122fb2ed8f"
      },
      "execution_count": 2,
      "outputs": [
        {
          "output_type": "stream",
          "name": "stdout",
          "text": [
            "[Errno 2] No such file or directory: 'MyDrive'\n",
            "/content\n"
          ]
        }
      ]
    },
    {
      "cell_type": "code",
      "source": [
        "!ls -al"
      ],
      "metadata": {
        "colab": {
          "base_uri": "https://localhost:8080/"
        },
        "id": "uDEKCHOzjdZe",
        "outputId": "9927622e-9677-4cc7-d51f-be22224f4a13"
      },
      "execution_count": 5,
      "outputs": [
        {
          "output_type": "stream",
          "name": "stdout",
          "text": [
            "total 16\n",
            "drwxr-xr-x 1 root root 4096 Aug 15 13:44 .\n",
            "drwxr-xr-x 1 root root 4096 Aug 19 14:41 ..\n",
            "drwxr-xr-x 4 root root 4096 Aug 15 13:44 .config\n",
            "drwxr-xr-x 1 root root 4096 Aug 15 13:44 sample_data\n"
          ]
        }
      ]
    },
    {
      "cell_type": "code",
      "source": [
        "cd tmp"
      ],
      "metadata": {
        "colab": {
          "base_uri": "https://localhost:8080/"
        },
        "id": "jWh2noyWjqrM",
        "outputId": "3c741cd4-3984-4001-9e25-60d0743a1a89"
      },
      "execution_count": 17,
      "outputs": [
        {
          "output_type": "stream",
          "name": "stdout",
          "text": [
            "/gdrive/MyDrive/tmp\n"
          ]
        }
      ]
    },
    {
      "cell_type": "code",
      "source": [
        "\n",
        "pwd"
      ],
      "metadata": {
        "colab": {
          "base_uri": "https://localhost:8080/",
          "height": 35
        },
        "id": "2xd_BKtgjufp",
        "outputId": "e8cec35f-14f2-4b74-f9b5-9c93bf7f64f9"
      },
      "execution_count": 18,
      "outputs": [
        {
          "output_type": "execute_result",
          "data": {
            "text/plain": [
              "'/gdrive/MyDrive/tmp'"
            ],
            "application/vnd.google.colaboratory.intrinsic+json": {
              "type": "string"
            }
          },
          "metadata": {},
          "execution_count": 18
        }
      ]
    },
    {
      "cell_type": "code",
      "source": [
        "!ls -al"
      ],
      "metadata": {
        "colab": {
          "base_uri": "https://localhost:8080/"
        },
        "id": "zWu3dlQ0jwmD",
        "outputId": "bbc7abf3-e046-43be-8afc-7c5ca8e31a33"
      },
      "execution_count": 19,
      "outputs": [
        {
          "output_type": "stream",
          "name": "stdout",
          "text": [
            "total 686599\n",
            "drwx------ 2 root root      4096 Aug  5 05:52 flowers_prepared\n",
            "-rw------- 1 root root  62656905 Aug  6 07:25 flowers_prepared2.zip\n",
            "-rw------- 1 root root  62655610 Aug  5 05:42 flowers_prepared.zip\n",
            "-rw------- 1 root root  62587455 Aug  5 05:23 flowers.zip\n",
            "drwx------ 2 root root      4096 Aug 19 06:45 pose_estimiation\n",
            "-rw------- 1 root root  89001555 Aug 18 08:42 pose.zip\n",
            "-rw------- 1 root root    123530 Aug 12 06:55 submission.csv\n",
            "-rw------- 1 root root  57552176 Aug 12 06:57 test.csv.zip\n",
            "-rw------- 1 root root 121986928 Aug 12 06:57 train.csv.zip\n",
            "-rw------- 1 root root    196649 Aug 12 06:57 train_labels.csv\n",
            "-rw------- 1 root root 246305388 Aug 10 04:59 yolov3_custom_last.weights\n"
          ]
        }
      ]
    },
    {
      "cell_type": "code",
      "source": [
        "cd tmp"
      ],
      "metadata": {
        "colab": {
          "base_uri": "https://localhost:8080/"
        },
        "id": "Lyj98c0m1XKC",
        "outputId": "2d53649b-94a0-41c8-f582-a37b94922ca4"
      },
      "execution_count": 4,
      "outputs": [
        {
          "output_type": "stream",
          "name": "stdout",
          "text": [
            "[Errno 2] No such file or directory: 'tmp'\n",
            "/content\n"
          ]
        }
      ]
    },
    {
      "cell_type": "code",
      "source": [
        "from google.colab import drive\n",
        "drive.mount('/content/drive')"
      ],
      "metadata": {
        "id": "cRXZZEctjYjH"
      },
      "execution_count": null,
      "outputs": []
    },
    {
      "cell_type": "code",
      "source": [
        "!pwd"
      ],
      "metadata": {
        "colab": {
          "base_uri": "https://localhost:8080/"
        },
        "id": "yTgFTJzPu6KR",
        "outputId": "d136818a-bc7d-41c0-c220-9baf3572aec7"
      },
      "execution_count": 29,
      "outputs": [
        {
          "output_type": "stream",
          "name": "stdout",
          "text": [
            "/content/drive/My Drive/tmp\n"
          ]
        }
      ]
    },
    {
      "cell_type": "code",
      "source": [
        "%cd tmp\n",
        "!unzip '/content/drive/MyDrive/tmp/pose.zip'"
      ],
      "metadata": {
        "colab": {
          "base_uri": "https://localhost:8080/"
        },
        "id": "u0uRa4sx2Bas",
        "outputId": "efe42274-f890-4a72-9893-3261c82dd491"
      },
      "execution_count": 30,
      "outputs": [
        {
          "output_type": "stream",
          "name": "stdout",
          "text": [
            "[Errno 107] Transport endpoint is not connected: 'tmp'\n",
            "/content/drive/MyDrive/tmp\n",
            "unzip:  cannot find or open /content/drive/MyDrive/tmp/pose.zip, /content/drive/MyDrive/tmp/pose.zip.zip or /content/drive/MyDrive/tmp/pose.zip.ZIP.\n"
          ]
        }
      ]
    },
    {
      "cell_type": "code",
      "source": [
        "cd pose_estimiation #와중에 이름잘못저장함.. "
      ],
      "metadata": {
        "colab": {
          "base_uri": "https://localhost:8080/"
        },
        "id": "5Qu2K7cgkrbB",
        "outputId": "db2420bf-513c-4a07-a590-da4d2956c4c0"
      },
      "execution_count": 21,
      "outputs": [
        {
          "output_type": "stream",
          "name": "stdout",
          "text": [
            "/gdrive/MyDrive/tmp/pose_estimiation\n"
          ]
        }
      ]
    },
    {
      "cell_type": "code",
      "source": [
        "cd train"
      ],
      "metadata": {
        "colab": {
          "base_uri": "https://localhost:8080/"
        },
        "id": "ymwPZmqtkwWd",
        "outputId": "83020325-24d2-49fb-9b2e-a7b30b12e9f8"
      },
      "execution_count": 22,
      "outputs": [
        {
          "output_type": "stream",
          "name": "stdout",
          "text": [
            "/gdrive/MyDrive/tmp/pose_estimiation/train\n"
          ]
        }
      ]
    },
    {
      "cell_type": "code",
      "source": [
        "cd good"
      ],
      "metadata": {
        "colab": {
          "base_uri": "https://localhost:8080/"
        },
        "id": "Bbuy1SpHkyxx",
        "outputId": "2eb33d19-e33f-4acb-8770-b9ab0f8180ce"
      },
      "execution_count": 23,
      "outputs": [
        {
          "output_type": "stream",
          "name": "stdout",
          "text": [
            "/gdrive/MyDrive/tmp/pose_estimiation/train/good\n"
          ]
        }
      ]
    },
    {
      "cell_type": "code",
      "source": [
        "!ls -al"
      ],
      "metadata": {
        "colab": {
          "base_uri": "https://localhost:8080/"
        },
        "id": "cv-mg4nhk0yJ",
        "outputId": "9de16c84-753a-4ddd-e414-3b76086d4b26"
      },
      "execution_count": 24,
      "outputs": [
        {
          "output_type": "stream",
          "name": "stdout",
          "text": [
            "total 44520\n",
            "-rw------- 1 root root  35537 Apr  1  2021 '0 (1).jpg'\n",
            "-rw------- 1 root root  43883 Apr  1  2021  0.jpg\n",
            "-rw------- 1 root root 150520 Apr  1  2021 '100 (1).jpg'\n",
            "-rw------- 1 root root 144656 Apr  1  2021  100.jpg\n",
            "-rw------- 1 root root 150875 Apr  1  2021 '101 (1).jpg'\n",
            "-rw------- 1 root root 152434 Apr  1  2021 '10 (1).jpg'\n",
            "-rw------- 1 root root 144432 Apr  1  2021  101.jpg\n",
            "-rw------- 1 root root 150513 Apr  1  2021 '102 (1).jpg'\n",
            "-rw------- 1 root root 144267 Apr  1  2021  102.jpg\n",
            "-rw------- 1 root root 150538 Apr  1  2021 '103 (1).jpg'\n",
            "-rw------- 1 root root 144115 Apr  1  2021  103.jpg\n",
            "-rw------- 1 root root 150233 Apr  1  2021 '104 (1).jpg'\n",
            "-rw------- 1 root root 143801 Apr  1  2021  104.jpg\n",
            "-rw------- 1 root root 150444 Apr  1  2021 '105 (1).jpg'\n",
            "-rw------- 1 root root 144450 Apr  1  2021  105.jpg\n",
            "-rw------- 1 root root 150259 Apr  1  2021 '106 (1).jpg'\n",
            "-rw------- 1 root root 144504 Apr  1  2021  106.jpg\n",
            "-rw------- 1 root root 150570 Apr  1  2021 '107 (1).jpg'\n",
            "-rw------- 1 root root 145092 Apr  1  2021  107.jpg\n",
            "-rw------- 1 root root 150345 Apr  1  2021 '108 (1).jpg'\n",
            "-rw------- 1 root root 145066 Apr  1  2021  108.jpg\n",
            "-rw------- 1 root root 150002 Apr  1  2021 '109 (1).jpg'\n",
            "-rw------- 1 root root 145406 Apr  1  2021  109.jpg\n",
            "-rw------- 1 root root 145215 Apr  1  2021  10.jpg\n",
            "-rw------- 1 root root 149314 Apr  1  2021 '110 (1).jpg'\n",
            "-rw------- 1 root root 145507 Apr  1  2021  110.jpg\n",
            "-rw------- 1 root root 149025 Apr  1  2021 '111 (1).jpg'\n",
            "-rw------- 1 root root 152157 Apr  1  2021 '11 (1).jpg'\n",
            "-rw------- 1 root root 146139 Apr  1  2021  111.jpg\n",
            "-rw------- 1 root root 148907 Apr  1  2021 '112 (1).jpg'\n",
            "-rw------- 1 root root 146097 Apr  1  2021  112.jpg\n",
            "-rw------- 1 root root 148893 Apr  1  2021 '113 (1).jpg'\n",
            "-rw------- 1 root root 146261 Apr  1  2021  113.jpg\n",
            "-rw------- 1 root root 149154 Apr  1  2021 '114 (1).jpg'\n",
            "-rw------- 1 root root 145955 Apr  1  2021  114.jpg\n",
            "-rw------- 1 root root 149653 Apr  1  2021 '115 (1).jpg'\n",
            "-rw------- 1 root root 146031 Apr  1  2021  115.jpg\n",
            "-rw------- 1 root root 149552 Apr  1  2021 '116 (1).jpg'\n",
            "-rw------- 1 root root 145642 Apr  1  2021  116.jpg\n",
            "-rw------- 1 root root 149978 Apr  1  2021 '117 (1).jpg'\n",
            "-rw------- 1 root root 145727 Apr  1  2021  117.jpg\n",
            "-rw------- 1 root root 149883 Apr  1  2021 '118 (1).jpg'\n",
            "-rw------- 1 root root 145516 Apr  1  2021  118.jpg\n",
            "-rw------- 1 root root 149960 Apr  1  2021 '119 (1).jpg'\n",
            "-rw------- 1 root root 146351 Apr  1  2021  119.jpg\n",
            "-rw------- 1 root root 118972 Apr  1  2021 '1 (1).jpg'\n",
            "-rw------- 1 root root 145131 Apr  1  2021  11.jpg\n",
            "-rw------- 1 root root 150079 Apr  1  2021 '120 (1).jpg'\n",
            "-rw------- 1 root root 146432 Apr  1  2021  120.jpg\n",
            "-rw------- 1 root root 150409 Apr  1  2021 '121 (1).jpg'\n",
            "-rw------- 1 root root 151974 Apr  1  2021 '12 (1).jpg'\n",
            "-rw------- 1 root root 146620 Apr  1  2021  121.jpg\n",
            "-rw------- 1 root root 150769 Apr  1  2021 '122 (1).jpg'\n",
            "-rw------- 1 root root 146690 Apr  1  2021  122.jpg\n",
            "-rw------- 1 root root 150871 Apr  1  2021 '123 (1).jpg'\n",
            "-rw------- 1 root root 146554 Apr  1  2021  123.jpg\n",
            "-rw------- 1 root root 151537 Apr  1  2021 '124 (1).jpg'\n",
            "-rw------- 1 root root 146490 Apr  1  2021  124.jpg\n",
            "-rw------- 1 root root 151809 Apr  1  2021 '125 (1).jpg'\n",
            "-rw------- 1 root root 146344 Apr  1  2021  125.jpg\n",
            "-rw------- 1 root root 152559 Apr  1  2021 '126 (1).jpg'\n",
            "-rw------- 1 root root 146285 Apr  1  2021  126.jpg\n",
            "-rw------- 1 root root 152306 Apr  1  2021 '127 (1).jpg'\n",
            "-rw------- 1 root root 146443 Apr  1  2021  127.jpg\n",
            "-rw------- 1 root root 152247 Apr  1  2021 '128 (1).jpg'\n",
            "-rw------- 1 root root 146285 Apr  1  2021  128.jpg\n",
            "-rw------- 1 root root 152282 Apr  1  2021 '129 (1).jpg'\n",
            "-rw------- 1 root root 145998 Apr  1  2021  129.jpg\n",
            "-rw------- 1 root root 144923 Apr  1  2021  12.jpg\n",
            "-rw------- 1 root root 152309 Apr  1  2021 '130 (1).jpg'\n",
            "-rw------- 1 root root 145545 Apr  1  2021  130.jpg\n",
            "-rw------- 1 root root 152418 Apr  1  2021 '131 (1).jpg'\n",
            "-rw------- 1 root root 152305 Apr  1  2021 '13 (1).jpg'\n",
            "-rw------- 1 root root 144591 Apr  1  2021  131.jpg\n",
            "-rw------- 1 root root 152580 Apr  1  2021 '132 (1).jpg'\n",
            "-rw------- 1 root root 144430 Apr  1  2021  132.jpg\n",
            "-rw------- 1 root root 152722 Apr  1  2021 '133 (1).jpg'\n",
            "-rw------- 1 root root 143874 Apr  1  2021  133.jpg\n",
            "-rw------- 1 root root 152689 Apr  1  2021 '134 (1).jpg'\n",
            "-rw------- 1 root root 143921 Apr  1  2021  134.jpg\n",
            "-rw------- 1 root root 152556 Apr  1  2021 '135 (1).jpg'\n",
            "-rw------- 1 root root 143819 Apr  1  2021  135.jpg\n",
            "-rw------- 1 root root 152534 Apr  1  2021 '136 (1).jpg'\n",
            "-rw------- 1 root root 143977 Apr  1  2021  136.jpg\n",
            "-rw------- 1 root root 152398 Apr  1  2021 '137 (1).jpg'\n",
            "-rw------- 1 root root 144306 Apr  1  2021  137.jpg\n",
            "-rw------- 1 root root 152529 Apr  1  2021 '138 (1).jpg'\n",
            "-rw------- 1 root root 144218 Apr  1  2021  138.jpg\n",
            "-rw------- 1 root root 152370 Apr  1  2021 '139 (1).jpg'\n",
            "-rw------- 1 root root 144189 Apr  1  2021  139.jpg\n",
            "-rw------- 1 root root 144904 Apr  1  2021  13.jpg\n",
            "-rw------- 1 root root 152469 Apr  1  2021 '140 (1).jpg'\n",
            "-rw------- 1 root root 144336 Apr  1  2021  140.jpg\n",
            "-rw------- 1 root root 152595 Apr  1  2021 '141 (1).jpg'\n",
            "-rw------- 1 root root 152320 Apr  1  2021 '14 (1).jpg'\n",
            "-rw------- 1 root root 144194 Apr  1  2021  141.jpg\n",
            "-rw------- 1 root root 152468 Apr  1  2021 '142 (1).jpg'\n",
            "-rw------- 1 root root 143914 Apr  1  2021  142.jpg\n",
            "-rw------- 1 root root 152516 Apr  1  2021 '143 (1).jpg'\n",
            "-rw------- 1 root root 144420 Apr  1  2021  143.jpg\n",
            "-rw------- 1 root root 152579 Apr  1  2021 '144 (1).jpg'\n",
            "-rw------- 1 root root 144263 Apr  1  2021  144.jpg\n",
            "-rw------- 1 root root 144103 Apr  1  2021  145.jpg\n",
            "-rw------- 1 root root 143991 Apr  1  2021  146.jpg\n",
            "-rw------- 1 root root 143697 Apr  1  2021  147.jpg\n",
            "-rw------- 1 root root 143881 Apr  1  2021  148.jpg\n",
            "-rw------- 1 root root 144325 Apr  1  2021  149.jpg\n",
            "-rw------- 1 root root 144759 Apr  1  2021  14.jpg\n",
            "-rw------- 1 root root 144004 Apr  1  2021  150.jpg\n",
            "-rw------- 1 root root 152232 Apr  1  2021 '15 (1).jpg'\n",
            "-rw------- 1 root root 144421 Apr  1  2021  151.jpg\n",
            "-rw------- 1 root root 144378 Apr  1  2021  152.jpg\n",
            "-rw------- 1 root root 144373 Apr  1  2021  153.jpg\n",
            "-rw------- 1 root root 144064 Apr  1  2021  154.jpg\n",
            "-rw------- 1 root root 143691 Apr  1  2021  155.jpg\n",
            "-rw------- 1 root root 144221 Apr  1  2021  156.jpg\n",
            "-rw------- 1 root root 143883 Apr  1  2021  157.jpg\n",
            "-rw------- 1 root root 144121 Apr  1  2021  158.jpg\n",
            "-rw------- 1 root root 143758 Apr  1  2021  159.jpg\n",
            "-rw------- 1 root root 145089 Apr  1  2021  15.jpg\n",
            "-rw------- 1 root root 144229 Apr  1  2021  160.jpg\n",
            "-rw------- 1 root root 152514 Apr  1  2021 '16 (1).jpg'\n",
            "-rw------- 1 root root 143613 Apr  1  2021  161.jpg\n",
            "-rw------- 1 root root 143965 Apr  1  2021  162.jpg\n",
            "-rw------- 1 root root 144046 Apr  1  2021  163.jpg\n",
            "-rw------- 1 root root 143978 Apr  1  2021  164.jpg\n",
            "-rw------- 1 root root 144018 Apr  1  2021  165.jpg\n",
            "-rw------- 1 root root 145216 Apr  1  2021  16.jpg\n",
            "-rw------- 1 root root 152442 Apr  1  2021 '17 (1).jpg'\n",
            "-rw------- 1 root root 144986 Apr  1  2021  17.jpg\n",
            "-rw------- 1 root root 152393 Apr  1  2021 '18 (1).jpg'\n",
            "-rw------- 1 root root 144831 Apr  1  2021  18.jpg\n",
            "-rw------- 1 root root 152661 Apr  1  2021 '19 (1).jpg'\n",
            "-rw------- 1 root root 144595 Apr  1  2021  19.jpg\n",
            "-rw------- 1 root root 120938 Apr  1  2021  1.jpg\n",
            "-rw------- 1 root root 153079 Apr  1  2021 '20 (1).jpg'\n",
            "-rw------- 1 root root 144652 Apr  1  2021  20.jpg\n",
            "-rw------- 1 root root 152168 Apr  1  2021 '21 (1).jpg'\n",
            "-rw------- 1 root root 131858 Apr  1  2021 '2 (1).jpg'\n",
            "-rw------- 1 root root 145025 Apr  1  2021  21.jpg\n",
            "-rw------- 1 root root 152401 Apr  1  2021 '22 (1).jpg'\n",
            "-rw------- 1 root root 145039 Apr  1  2021  22.jpg\n",
            "-rw------- 1 root root 152339 Apr  1  2021 '23 (1).jpg'\n",
            "-rw------- 1 root root 145163 Apr  1  2021  23.jpg\n",
            "-rw------- 1 root root 152315 Apr  1  2021 '24 (1).jpg'\n",
            "-rw------- 1 root root 144610 Apr  1  2021  24.jpg\n",
            "-rw------- 1 root root 152096 Apr  1  2021 '25 (1).jpg'\n",
            "-rw------- 1 root root 144838 Apr  1  2021  25.jpg\n",
            "-rw------- 1 root root 152210 Apr  1  2021 '26 (1).jpg'\n",
            "-rw------- 1 root root 144931 Apr  1  2021  26.jpg\n",
            "-rw------- 1 root root 152246 Apr  1  2021 '27 (1).jpg'\n",
            "-rw------- 1 root root 144859 Apr  1  2021  27.jpg\n",
            "-rw------- 1 root root 151207 Apr  1  2021 '28 (1).jpg'\n",
            "-rw------- 1 root root 144681 Apr  1  2021  28.jpg\n",
            "-rw------- 1 root root 150683 Apr  1  2021 '29 (1).jpg'\n",
            "-rw------- 1 root root 145175 Apr  1  2021  29.jpg\n",
            "-rw------- 1 root root 132865 Apr  1  2021  2.jpg\n",
            "-rw------- 1 root root 149339 Apr  1  2021 '30 (1).jpg'\n",
            "-rw------- 1 root root 144849 Apr  1  2021  30.jpg\n",
            "-rw------- 1 root root 149108 Apr  1  2021 '31 (1).jpg'\n",
            "-rw------- 1 root root 129968 Apr  1  2021 '3 (1).jpg'\n",
            "-rw------- 1 root root 144360 Apr  1  2021  31.jpg\n",
            "-rw------- 1 root root 148863 Apr  1  2021 '32 (1).jpg'\n",
            "-rw------- 1 root root 144527 Apr  1  2021  32.jpg\n",
            "-rw------- 1 root root 149261 Apr  1  2021 '33 (1).jpg'\n",
            "-rw------- 1 root root 144223 Apr  1  2021  33.jpg\n",
            "-rw------- 1 root root 149016 Apr  1  2021 '34 (1).jpg'\n",
            "-rw------- 1 root root 144224 Apr  1  2021  34.jpg\n",
            "-rw------- 1 root root 149103 Apr  1  2021 '35 (1).jpg'\n",
            "-rw------- 1 root root 144219 Apr  1  2021  35.jpg\n",
            "-rw------- 1 root root 149260 Apr  1  2021 '36 (1).jpg'\n",
            "-rw------- 1 root root 144104 Apr  1  2021  36.jpg\n",
            "-rw------- 1 root root 149384 Apr  1  2021 '37 (1).jpg'\n",
            "-rw------- 1 root root 143354 Apr  1  2021  37.jpg\n",
            "-rw------- 1 root root 149909 Apr  1  2021 '38 (1).jpg'\n",
            "-rw------- 1 root root 143416 Apr  1  2021  38.jpg\n",
            "-rw------- 1 root root 149782 Apr  1  2021 '39 (1).jpg'\n",
            "-rw------- 1 root root 143489 Apr  1  2021  39.jpg\n",
            "-rw------- 1 root root 131166 Apr  1  2021  3.jpg\n",
            "-rw------- 1 root root 150105 Apr  1  2021 '40 (1).jpg'\n",
            "-rw------- 1 root root 143659 Apr  1  2021  40.jpg\n",
            "-rw------- 1 root root 150193 Apr  1  2021 '41 (1).jpg'\n",
            "-rw------- 1 root root 129614 Apr  1  2021 '4 (1).jpg'\n",
            "-rw------- 1 root root 143795 Apr  1  2021  41.jpg\n",
            "-rw------- 1 root root 150518 Apr  1  2021 '42 (1).jpg'\n",
            "-rw------- 1 root root 143752 Apr  1  2021  42.jpg\n",
            "-rw------- 1 root root 150392 Apr  1  2021 '43 (1).jpg'\n",
            "-rw------- 1 root root 144462 Apr  1  2021  43.jpg\n",
            "-rw------- 1 root root 150226 Apr  1  2021 '44 (1).jpg'\n",
            "-rw------- 1 root root 144504 Apr  1  2021  44.jpg\n",
            "-rw------- 1 root root 150196 Apr  1  2021 '45 (1).jpg'\n",
            "-rw------- 1 root root 144664 Apr  1  2021  45.jpg\n",
            "-rw------- 1 root root 149736 Apr  1  2021 '46 (1).jpg'\n",
            "-rw------- 1 root root 144528 Apr  1  2021  46.jpg\n",
            "-rw------- 1 root root 149826 Apr  1  2021 '47 (1).jpg'\n",
            "-rw------- 1 root root 144937 Apr  1  2021  47.jpg\n",
            "-rw------- 1 root root 149651 Apr  1  2021 '48 (1).jpg'\n",
            "-rw------- 1 root root 144958 Apr  1  2021  48.jpg\n",
            "-rw------- 1 root root 149628 Apr  1  2021 '49 (1).jpg'\n",
            "-rw------- 1 root root 145173 Apr  1  2021  49.jpg\n",
            "-rw------- 1 root root 141726 Apr  1  2021  4.jpg\n",
            "-rw------- 1 root root 149938 Apr  1  2021 '50 (1).jpg'\n",
            "-rw------- 1 root root 144654 Apr  1  2021  50.jpg\n",
            "-rw------- 1 root root 149687 Apr  1  2021 '51 (1).jpg'\n",
            "-rw------- 1 root root 143695 Apr  1  2021 '5 (1).jpg'\n",
            "-rw------- 1 root root 145213 Apr  1  2021  51.jpg\n",
            "-rw------- 1 root root 150401 Apr  1  2021 '52 (1).jpg'\n",
            "-rw------- 1 root root 144622 Apr  1  2021  52.jpg\n",
            "-rw------- 1 root root 150697 Apr  1  2021 '53 (1).jpg'\n",
            "-rw------- 1 root root 145110 Apr  1  2021  53.jpg\n",
            "-rw------- 1 root root 150850 Apr  1  2021 '54 (1).jpg'\n",
            "-rw------- 1 root root 144989 Apr  1  2021  54.jpg\n",
            "-rw------- 1 root root 151666 Apr  1  2021 '55 (1).jpg'\n",
            "-rw------- 1 root root 144671 Apr  1  2021  55.jpg\n",
            "-rw------- 1 root root 151866 Apr  1  2021 '56 (1).jpg'\n",
            "-rw------- 1 root root 144515 Apr  1  2021  56.jpg\n",
            "-rw------- 1 root root 151947 Apr  1  2021 '57 (1).jpg'\n",
            "-rw------- 1 root root 145025 Apr  1  2021  57.jpg\n",
            "-rw------- 1 root root 151501 Apr  1  2021 '58 (1).jpg'\n",
            "-rw------- 1 root root 144345 Apr  1  2021  58.jpg\n",
            "-rw------- 1 root root 151233 Apr  1  2021 '59 (1).jpg'\n",
            "-rw------- 1 root root 144436 Apr  1  2021  59.jpg\n",
            "-rw------- 1 root root 144837 Apr  1  2021  5.jpg\n",
            "-rw------- 1 root root 144270 Apr  1  2021 '60 (1).jpg'\n",
            "-rw------- 1 root root 151376 Apr  1  2021  60.jpg\n",
            "-rw------- 1 root root 144095 Apr  1  2021 '61 (1).jpg'\n",
            "-rw------- 1 root root 143377 Apr  1  2021 '6 (1).jpg'\n",
            "-rw------- 1 root root 151083 Apr  1  2021  61.jpg\n",
            "-rw------- 1 root root 151049 Apr  1  2021 '62 (1).jpg'\n",
            "-rw------- 1 root root 144011 Apr  1  2021  62.jpg\n",
            "-rw------- 1 root root 150637 Apr  1  2021 '63 (1).jpg'\n",
            "-rw------- 1 root root 144260 Apr  1  2021  63.jpg\n",
            "-rw------- 1 root root 150696 Apr  1  2021 '64 (1).jpg'\n",
            "-rw------- 1 root root 144216 Apr  1  2021  64.jpg\n",
            "-rw------- 1 root root 150913 Apr  1  2021 '65 (1).jpg'\n",
            "-rw------- 1 root root 144290 Apr  1  2021  65.jpg\n",
            "-rw------- 1 root root 150609 Apr  1  2021 '66 (1).jpg'\n",
            "-rw------- 1 root root 144742 Apr  1  2021  66.jpg\n",
            "-rw------- 1 root root 150139 Apr  1  2021 '67 (1).jpg'\n",
            "-rw------- 1 root root 144087 Apr  1  2021  67.jpg\n",
            "-rw------- 1 root root 149851 Apr  1  2021 '68 (1).jpg'\n",
            "-rw------- 1 root root 144135 Apr  1  2021  68.jpg\n",
            "-rw------- 1 root root 149978 Apr  1  2021 '69 (1).jpg'\n",
            "-rw------- 1 root root 143975 Apr  1  2021  69.jpg\n",
            "-rw------- 1 root root 144841 Apr  1  2021  6.jpg\n",
            "-rw------- 1 root root 150186 Apr  1  2021 '70 (1).jpg'\n",
            "-rw------- 1 root root 143982 Apr  1  2021  70.jpg\n",
            "-rw------- 1 root root 150437 Apr  1  2021 '71 (1).jpg'\n",
            "-rw------- 1 root root 153105 Apr  1  2021 '7 (1).jpg'\n",
            "-rw------- 1 root root 144361 Apr  1  2021  71.jpg\n",
            "-rw------- 1 root root 150634 Apr  1  2021 '72 (1).jpg'\n",
            "-rw------- 1 root root 144632 Apr  1  2021  72.jpg\n",
            "-rw------- 1 root root 150817 Apr  1  2021 '73 (1).jpg'\n",
            "-rw------- 1 root root 144207 Apr  1  2021  73.jpg\n",
            "-rw------- 1 root root 151289 Apr  1  2021 '74 (1).jpg'\n",
            "-rw------- 1 root root 143636 Apr  1  2021  74.jpg\n",
            "-rw------- 1 root root 151547 Apr  1  2021 '75 (1).jpg'\n",
            "-rw------- 1 root root 143970 Apr  1  2021  75.jpg\n",
            "-rw------- 1 root root 151424 Apr  1  2021 '76 (1).jpg'\n",
            "-rw------- 1 root root 144139 Apr  1  2021  76.jpg\n",
            "-rw------- 1 root root 150942 Apr  1  2021 '77 (1).jpg'\n",
            "-rw------- 1 root root 144292 Apr  1  2021  77.jpg\n",
            "-rw------- 1 root root 151329 Apr  1  2021 '78 (1).jpg'\n",
            "-rw------- 1 root root 144541 Apr  1  2021  78.jpg\n",
            "-rw------- 1 root root 151252 Apr  1  2021 '79 (1).jpg'\n",
            "-rw------- 1 root root 144194 Apr  1  2021  79.jpg\n",
            "-rw------- 1 root root 144922 Apr  1  2021  7.jpg\n",
            "-rw------- 1 root root 151104 Apr  1  2021 '80 (1).jpg'\n",
            "-rw------- 1 root root 144717 Apr  1  2021  80.jpg\n",
            "-rw------- 1 root root 150814 Apr  1  2021 '81 (1).jpg'\n",
            "-rw------- 1 root root 152596 Apr  1  2021 '8 (1).jpg'\n",
            "-rw------- 1 root root 144584 Apr  1  2021  81.jpg\n",
            "-rw------- 1 root root 150198 Apr  1  2021 '82 (1).jpg'\n",
            "-rw------- 1 root root 144514 Apr  1  2021  82.jpg\n",
            "-rw------- 1 root root 149557 Apr  1  2021 '83 (1).jpg'\n",
            "-rw------- 1 root root 144548 Apr  1  2021  83.jpg\n",
            "-rw------- 1 root root 149155 Apr  1  2021 '84 (1).jpg'\n",
            "-rw------- 1 root root 144782 Apr  1  2021  84.jpg\n",
            "-rw------- 1 root root 149356 Apr  1  2021 '85 (1).jpg'\n",
            "-rw------- 1 root root 144603 Apr  1  2021  85.jpg\n",
            "-rw------- 1 root root 148840 Apr  1  2021 '86 (1).jpg'\n",
            "-rw------- 1 root root 143899 Apr  1  2021  86.jpg\n",
            "-rw------- 1 root root 148765 Apr  1  2021 '87 (1).jpg'\n",
            "-rw------- 1 root root 144374 Apr  1  2021  87.jpg\n",
            "-rw------- 1 root root 148951 Apr  1  2021 '88 (1).jpg'\n",
            "-rw------- 1 root root 144409 Apr  1  2021  88.jpg\n",
            "-rw------- 1 root root 149003 Apr  1  2021 '89 (1).jpg'\n",
            "-rw------- 1 root root 144375 Apr  1  2021  89.jpg\n",
            "-rw------- 1 root root 144720 Apr  1  2021  8.jpg\n",
            "-rw------- 1 root root 149362 Apr  1  2021 '90 (1).jpg'\n",
            "-rw------- 1 root root 144391 Apr  1  2021  90.jpg\n",
            "-rw------- 1 root root 149737 Apr  1  2021 '91 (1).jpg'\n",
            "-rw------- 1 root root 152175 Apr  1  2021 '9 (1).jpg'\n",
            "-rw------- 1 root root 144495 Apr  1  2021  91.jpg\n",
            "-rw------- 1 root root 149481 Apr  1  2021 '92 (1).jpg'\n",
            "-rw------- 1 root root 144387 Apr  1  2021  92.jpg\n",
            "-rw------- 1 root root 150046 Apr  1  2021 '93 (1).jpg'\n",
            "-rw------- 1 root root 143830 Apr  1  2021  93.jpg\n",
            "-rw------- 1 root root 150450 Apr  1  2021 '94 (1).jpg'\n",
            "-rw------- 1 root root 144202 Apr  1  2021  94.jpg\n",
            "-rw------- 1 root root 150295 Apr  1  2021 '95 (1).jpg'\n",
            "-rw------- 1 root root 144371 Apr  1  2021  95.jpg\n",
            "-rw------- 1 root root 150072 Apr  1  2021 '96 (1).jpg'\n",
            "-rw------- 1 root root 144466 Apr  1  2021  96.jpg\n",
            "-rw------- 1 root root 150488 Apr  1  2021 '97 (1).jpg'\n",
            "-rw------- 1 root root 144326 Apr  1  2021  97.jpg\n",
            "-rw------- 1 root root 150157 Apr  1  2021 '98 (1).jpg'\n",
            "-rw------- 1 root root 144368 Apr  1  2021  98.jpg\n",
            "-rw------- 1 root root 150418 Apr  1  2021 '99 (1).jpg'\n",
            "-rw------- 1 root root 144472 Apr  1  2021  99.jpg\n",
            "-rw------- 1 root root 144573 Apr  1  2021  9.jpg\n"
          ]
        }
      ]
    },
    {
      "cell_type": "code",
      "source": [
        "mv 5 pose_estimiation\n",
        "#5 폴더를 pose_estimation으로 바꾼다(rename)\n"
      ],
      "metadata": {
        "id": "xgi8geCS2Lpe"
      },
      "execution_count": 16,
      "outputs": []
    },
    {
      "cell_type": "markdown",
      "source": [
        "#Train - Test 데이터 나눠주기\n",
        "\n",
        "\n",
        "\n",
        "```\n",
        "1. split folder ratio 사용\n",
        "!pip install split-folders\n",
        "import splitfolders\n",
        "\n",
        "#splitfolders.ratio('인풋경로',output='output경로' ,seed=77, ratio= (0.8,0.1,0.1)) \n",
        "#처음폴더를 output foloder(없다면 생성해준후 실행)로 train-valid-test 데이터를 0.8,0.1,0.1의 비율로 나눠줘\n",
        "\n",
        "# splitfolders.ratio('/content/drive/MyDrive/tmp/pose_estimiation/bad',)\n",
        "\n",
        "2. 뒷자리 9 0 을 옮겨줌(대략 8:2로 나눠줌)\n",
        "```\n",
        "\n"
      ],
      "metadata": {
        "id": "e2_S78dA208M"
      }
    },
    {
      "cell_type": "markdown",
      "source": [
        "##Linux 파일이동 mv\n",
        "* 여러개 파일 한꺼번에 이동시키기 \n",
        "\n",
        "mv [이동 대상1] [이동 대상2] [이동 대상3] ..... [이동 할 경로]\n",
        "\n",
        "ex) mv test1.txt test2.txt test3.txt /user/.\n",
        "\n",
        "현재 위치의 모든 파일 이동\n",
        "\n",
        "mv * [이동 할 경로]\n",
        "\n",
        "ex) : mv -r * /user/.\n",
        "\n",
        "* rename\n",
        "mv 기존 파일명 새로운 파일명 (같은 폴더로의 이동이라 이름만 변경된다)"
      ],
      "metadata": {
        "id": "u-e8N8cyBqUu"
      }
    },
    {
      "cell_type": "code",
      "source": [
        "#파일 나눠주기 전 한 폴더로 모으기 \n",
        "#코드 어떻게 해야할지몰라서 직접 나눠줌 "
      ],
      "metadata": {
        "colab": {
          "base_uri": "https://localhost:8080/",
          "height": 137
        },
        "id": "gdXB8nTy5rFf",
        "outputId": "b3957a38-85a8-41bc-dab6-dd6e48fb8fd5"
      },
      "execution_count": 25,
      "outputs": [
        {
          "output_type": "error",
          "ename": "SyntaxError",
          "evalue": "ignored",
          "traceback": [
            "\u001b[0;36m  File \u001b[0;32m\"<ipython-input-25-b4b3b349c908>\"\u001b[0;36m, line \u001b[0;32m2\u001b[0m\n\u001b[0;31m    mv bad/1/al bad\u001b[0m\n\u001b[0m         ^\u001b[0m\n\u001b[0;31mSyntaxError\u001b[0m\u001b[0;31m:\u001b[0m invalid syntax\n"
          ]
        }
      ]
    },
    {
      "cell_type": "code",
      "source": [
        "mv *9.jpg  /gdrive/MyDrive/tmp/pose_estimiation/test/good/"
      ],
      "metadata": {
        "id": "GPPHhiMYkc9H"
      },
      "execution_count": 28,
      "outputs": []
    },
    {
      "cell_type": "code",
      "source": [
        "mv *0.jpg  /gdrive/MyDrive/tmp/pose_estimiation/test/good/"
      ],
      "metadata": {
        "id": "-CoeJYxYlbye"
      },
      "execution_count": 29,
      "outputs": []
    },
    {
      "cell_type": "code",
      "source": [
        "cd .."
      ],
      "metadata": {
        "colab": {
          "base_uri": "https://localhost:8080/"
        },
        "id": "gwGoM5cWlhfp",
        "outputId": "28fd5696-5997-4d92-ce22-84db59e094d4"
      },
      "execution_count": 30,
      "outputs": [
        {
          "output_type": "stream",
          "name": "stdout",
          "text": [
            "/gdrive/MyDrive/tmp/pose_estimiation/train\n"
          ]
        }
      ]
    },
    {
      "cell_type": "code",
      "source": [
        "cd bad"
      ],
      "metadata": {
        "colab": {
          "base_uri": "https://localhost:8080/"
        },
        "id": "CifoF0ADlkmg",
        "outputId": "8c3bc389-14dd-41c1-dab6-6eb1a4dc5d7b"
      },
      "execution_count": 31,
      "outputs": [
        {
          "output_type": "stream",
          "name": "stdout",
          "text": [
            "/gdrive/MyDrive/tmp/pose_estimiation/train/bad\n"
          ]
        }
      ]
    },
    {
      "cell_type": "code",
      "source": [
        "mv *9.jpg  /gdrive/MyDrive/tmp/pose_estimiation/test/bad/"
      ],
      "metadata": {
        "id": "4o4hbLkqln3D"
      },
      "execution_count": 32,
      "outputs": []
    },
    {
      "cell_type": "code",
      "source": [
        "mv *0.jpg  /gdrive/MyDrive/tmp/pose_estimiation/test/bad/"
      ],
      "metadata": {
        "id": "SmnwgGjVlqki"
      },
      "execution_count": 33,
      "outputs": []
    },
    {
      "cell_type": "markdown",
      "source": [
        "#Vanilla CNN Template\n"
      ],
      "metadata": {
        "id": "icPgphWcyd2u"
      }
    },
    {
      "cell_type": "code",
      "source": [
        "import os\n",
        "\n",
        "import matplotlib.pyplot as plt\n",
        "import numpy as np\n",
        "\n",
        "from tensorflow import keras\n",
        "from tensorflow.keras import optimizers\n",
        "from tensorflow.keras import models\n",
        "from tensorflow.keras import layers\n",
        "from tensorflow.keras import optimizers\n",
        "from tensorflow.keras import Sequential\n",
        "from tensorflow.keras.layers import Dropout, Flatten, Dense, BatchNormalization, Conv2D, MaxPooling2D, Input\n",
        "from tensorflow.keras import Model\n",
        "from tensorflow.keras.preprocessing.image import ImageDataGenerator\n",
        "from tensorflow.keras.preprocessing.image import load_img\n",
        "from tensorflow.keras.preprocessing.image import img_to_array\n",
        "\n",
        "from tensorflow.keras.applications import efficientnet\n",
        "from tensorflow.keras.applications import EfficientNetB2\n",
        "\n",
        "model = keras.Sequential()\n",
        "model.add(Input((224,224,3)))\n",
        "model.add(Conv2D(64, (3,3), padding='same'))\n",
        "model.add(Conv2D(64, (3,3), padding='same'))\n",
        "model.add(MaxPooling2D())\n",
        "model.add(Conv2D(128, (3,3), padding='same'))\n",
        "model.add(Conv2D(128, (3,3), padding='same'))\n",
        "model.add(MaxPooling2D())\n",
        "model.add(Conv2D(256, (3,3), padding='same'))\n",
        "model.add(Conv2D(256, (3,3), padding='same'))\n",
        "model.add(Conv2D(256, (3,3), padding='same'))\n",
        "model.add(MaxPooling2D())\n",
        "model.add(Conv2D(512, (3,3), padding='same'))\n",
        "model.add(Conv2D(512, (3,3), padding='same'))\n",
        "model.add(Conv2D(512, (3,3), padding='same'))\n",
        "model.add(MaxPooling2D())\n",
        "model.add(Conv2D(512, (3,3), padding='same'))\n",
        "model.add(Conv2D(512, (3,3), padding='same'))\n",
        "model.add(Conv2D(512, (3,3), padding='same'))\n",
        "model.add(MaxPooling2D())\n",
        "model.add(Flatten())\n",
        "model.add(Dense(64, activation='relu'))\n",
        "model.add(BatchNormalization())\n",
        "model.add(Dense(2, activation='sigmoid'))\n",
        "\n",
        "#다중분류\n",
        "#model.compile(loss='sparse_categorical_crossentropy', optimizer=\"RMSprop\", metrics=['acc'])\n",
        "#good,bad만 분류하면되니까 2진분류\n",
        "model.compile(loss='binary_crossentropy', optimizer=\"RMSprop\", metrics=['acc'])\n",
        "model.summary()\n",
        "\n",
        "def normalize(image):\n",
        "  return image/255.0\n",
        "\n",
        "preprocessor = normalize\n",
        "BATCH_SIZE = 64\n",
        "\n",
        "train_data_generator = ImageDataGenerator(\n",
        "      # rotation_range=10,\n",
        "      rotation_range=2, #bad,good2개니까 2\n",
        "      width_shift_range=0.1,\n",
        "      height_shift_range=0.1,\n",
        "      horizontal_flip=True,\n",
        "      vertical_flip=False,\n",
        "      preprocessing_function=preprocessor\n",
        ").flow_from_directory(\n",
        "      \"/gdrive/MyDrive/tmp/pose_estimiation/train\",#학습시킬 경로\n",
        "      target_size=(224,224),\n",
        "      batch_size=BATCH_SIZE,\n",
        "      class_mode='sparse'\n",
        ")\n",
        "\n",
        "test_data_generator = ImageDataGenerator(\n",
        "      preprocessing_function=preprocessor\n",
        ").flow_from_directory(\n",
        "      \"/gdrive/MyDrive/tmp/pose_estimiation/test\", #test경로\n",
        "      target_size=(224,224),\n",
        "      batch_size=BATCH_SIZE,\n",
        "      class_mode='sparse'\n",
        ")\n",
        "\n",
        "\n",
        "history = model.fit(\n",
        "      train_data_generator,\n",
        "      validation_data=test_data_generator,\n",
        "      steps_per_epoch=train_data_generator.samples/BATCH_SIZE,  \n",
        "      validation_steps=test_data_generator.samples/BATCH_SIZE,      \n",
        "      epochs=10\n",
        ")\n",
        "\n",
        "\n",
        "plt.plot(history.history['loss'])\n",
        "plt.plot(history.history['val_loss'])\n",
        "plt.show()\n",
        "\n",
        "\n",
        "loss, acc = model.evaluate(\n",
        "      test_data_generator,\n",
        "      steps=test_data_generator.samples/BATCH_SIZE\n",
        ")\n",
        "print(\"loss=\", loss)\n",
        "print(\"acc=\", acc)\n",
        "\n",
        "\n",
        "\n",
        "test_x, test_y = next(iter(test_data_generator))\n",
        "y_ = model.predict(test_x)\n",
        "predicted = np.argmax(y_, axis=-1)\n",
        "\n",
        "plt.plot(test_y[:100], \"o\")\n",
        "plt.plot(predicted[:100], '.')\n",
        "plt.show()"
      ],
      "metadata": {
        "colab": {
          "base_uri": "https://localhost:8080/",
          "height": 1000
        },
        "id": "7PjQAtOCyco0",
        "outputId": "86155813-4381-4367-d953-32bb636959d5"
      },
      "execution_count": 45,
      "outputs": [
        {
          "output_type": "stream",
          "name": "stdout",
          "text": [
            "Model: \"sequential_11\"\n",
            "_________________________________________________________________\n",
            " Layer (type)                Output Shape              Param #   \n",
            "=================================================================\n",
            " conv2d_143 (Conv2D)         (None, 224, 224, 64)      1792      \n",
            "                                                                 \n",
            " conv2d_144 (Conv2D)         (None, 224, 224, 64)      36928     \n",
            "                                                                 \n",
            " max_pooling2d_55 (MaxPoolin  (None, 112, 112, 64)     0         \n",
            " g2D)                                                            \n",
            "                                                                 \n",
            " conv2d_145 (Conv2D)         (None, 112, 112, 128)     73856     \n",
            "                                                                 \n",
            " conv2d_146 (Conv2D)         (None, 112, 112, 128)     147584    \n",
            "                                                                 \n",
            " max_pooling2d_56 (MaxPoolin  (None, 56, 56, 128)      0         \n",
            " g2D)                                                            \n",
            "                                                                 \n",
            " conv2d_147 (Conv2D)         (None, 56, 56, 256)       295168    \n",
            "                                                                 \n",
            " conv2d_148 (Conv2D)         (None, 56, 56, 256)       590080    \n",
            "                                                                 \n",
            " conv2d_149 (Conv2D)         (None, 56, 56, 256)       590080    \n",
            "                                                                 \n",
            " max_pooling2d_57 (MaxPoolin  (None, 28, 28, 256)      0         \n",
            " g2D)                                                            \n",
            "                                                                 \n",
            " conv2d_150 (Conv2D)         (None, 28, 28, 512)       1180160   \n",
            "                                                                 \n",
            " conv2d_151 (Conv2D)         (None, 28, 28, 512)       2359808   \n",
            "                                                                 \n",
            " conv2d_152 (Conv2D)         (None, 28, 28, 512)       2359808   \n",
            "                                                                 \n",
            " max_pooling2d_58 (MaxPoolin  (None, 14, 14, 512)      0         \n",
            " g2D)                                                            \n",
            "                                                                 \n",
            " conv2d_153 (Conv2D)         (None, 14, 14, 512)       2359808   \n",
            "                                                                 \n",
            " conv2d_154 (Conv2D)         (None, 14, 14, 512)       2359808   \n",
            "                                                                 \n",
            " conv2d_155 (Conv2D)         (None, 14, 14, 512)       2359808   \n",
            "                                                                 \n",
            " max_pooling2d_59 (MaxPoolin  (None, 7, 7, 512)        0         \n",
            " g2D)                                                            \n",
            "                                                                 \n",
            " flatten_11 (Flatten)        (None, 25088)             0         \n",
            "                                                                 \n",
            " dense_22 (Dense)            (None, 64)                1605696   \n",
            "                                                                 \n",
            " batch_normalization_11 (Bat  (None, 64)               256       \n",
            " chNormalization)                                                \n",
            "                                                                 \n",
            " dense_23 (Dense)            (None, 2)                 130       \n",
            "                                                                 \n",
            "=================================================================\n",
            "Total params: 16,320,770\n",
            "Trainable params: 16,320,642\n",
            "Non-trainable params: 128\n",
            "_________________________________________________________________\n",
            "Found 541 images belonging to 2 classes.\n",
            "Found 62 images belonging to 2 classes.\n",
            "Epoch 1/10\n"
          ]
        },
        {
          "output_type": "error",
          "ename": "ValueError",
          "evalue": "ignored",
          "traceback": [
            "\u001b[0;31m---------------------------------------------------------------------------\u001b[0m",
            "\u001b[0;31mValueError\u001b[0m                                Traceback (most recent call last)",
            "\u001b[0;32m<ipython-input-45-d0111c6da51a>\u001b[0m in \u001b[0;36m<module>\u001b[0;34m\u001b[0m\n\u001b[1;32m     86\u001b[0m       \u001b[0msteps_per_epoch\u001b[0m\u001b[0;34m=\u001b[0m\u001b[0mtrain_data_generator\u001b[0m\u001b[0;34m.\u001b[0m\u001b[0msamples\u001b[0m\u001b[0;34m/\u001b[0m\u001b[0mBATCH_SIZE\u001b[0m\u001b[0;34m,\u001b[0m\u001b[0;34m\u001b[0m\u001b[0;34m\u001b[0m\u001b[0m\n\u001b[1;32m     87\u001b[0m       \u001b[0mvalidation_steps\u001b[0m\u001b[0;34m=\u001b[0m\u001b[0mtest_data_generator\u001b[0m\u001b[0;34m.\u001b[0m\u001b[0msamples\u001b[0m\u001b[0;34m/\u001b[0m\u001b[0mBATCH_SIZE\u001b[0m\u001b[0;34m,\u001b[0m\u001b[0;34m\u001b[0m\u001b[0;34m\u001b[0m\u001b[0m\n\u001b[0;32m---> 88\u001b[0;31m       \u001b[0mepochs\u001b[0m\u001b[0;34m=\u001b[0m\u001b[0;36m10\u001b[0m\u001b[0;34m\u001b[0m\u001b[0;34m\u001b[0m\u001b[0m\n\u001b[0m\u001b[1;32m     89\u001b[0m )\n\u001b[1;32m     90\u001b[0m \u001b[0;34m\u001b[0m\u001b[0m\n",
            "\u001b[0;32m/usr/local/lib/python3.7/dist-packages/keras/utils/traceback_utils.py\u001b[0m in \u001b[0;36merror_handler\u001b[0;34m(*args, **kwargs)\u001b[0m\n\u001b[1;32m     65\u001b[0m     \u001b[0;32mexcept\u001b[0m \u001b[0mException\u001b[0m \u001b[0;32mas\u001b[0m \u001b[0me\u001b[0m\u001b[0;34m:\u001b[0m  \u001b[0;31m# pylint: disable=broad-except\u001b[0m\u001b[0;34m\u001b[0m\u001b[0;34m\u001b[0m\u001b[0m\n\u001b[1;32m     66\u001b[0m       \u001b[0mfiltered_tb\u001b[0m \u001b[0;34m=\u001b[0m \u001b[0m_process_traceback_frames\u001b[0m\u001b[0;34m(\u001b[0m\u001b[0me\u001b[0m\u001b[0;34m.\u001b[0m\u001b[0m__traceback__\u001b[0m\u001b[0;34m)\u001b[0m\u001b[0;34m\u001b[0m\u001b[0;34m\u001b[0m\u001b[0m\n\u001b[0;32m---> 67\u001b[0;31m       \u001b[0;32mraise\u001b[0m \u001b[0me\u001b[0m\u001b[0;34m.\u001b[0m\u001b[0mwith_traceback\u001b[0m\u001b[0;34m(\u001b[0m\u001b[0mfiltered_tb\u001b[0m\u001b[0;34m)\u001b[0m \u001b[0;32mfrom\u001b[0m \u001b[0;32mNone\u001b[0m\u001b[0;34m\u001b[0m\u001b[0;34m\u001b[0m\u001b[0m\n\u001b[0m\u001b[1;32m     68\u001b[0m     \u001b[0;32mfinally\u001b[0m\u001b[0;34m:\u001b[0m\u001b[0;34m\u001b[0m\u001b[0;34m\u001b[0m\u001b[0m\n\u001b[1;32m     69\u001b[0m       \u001b[0;32mdel\u001b[0m \u001b[0mfiltered_tb\u001b[0m\u001b[0;34m\u001b[0m\u001b[0;34m\u001b[0m\u001b[0m\n",
            "\u001b[0;32m/usr/local/lib/python3.7/dist-packages/tensorflow/python/framework/func_graph.py\u001b[0m in \u001b[0;36mautograph_handler\u001b[0;34m(*args, **kwargs)\u001b[0m\n\u001b[1;32m   1145\u001b[0m           \u001b[0;32mexcept\u001b[0m \u001b[0mException\u001b[0m \u001b[0;32mas\u001b[0m \u001b[0me\u001b[0m\u001b[0;34m:\u001b[0m  \u001b[0;31m# pylint:disable=broad-except\u001b[0m\u001b[0;34m\u001b[0m\u001b[0;34m\u001b[0m\u001b[0m\n\u001b[1;32m   1146\u001b[0m             \u001b[0;32mif\u001b[0m \u001b[0mhasattr\u001b[0m\u001b[0;34m(\u001b[0m\u001b[0me\u001b[0m\u001b[0;34m,\u001b[0m \u001b[0;34m\"ag_error_metadata\"\u001b[0m\u001b[0;34m)\u001b[0m\u001b[0;34m:\u001b[0m\u001b[0;34m\u001b[0m\u001b[0;34m\u001b[0m\u001b[0m\n\u001b[0;32m-> 1147\u001b[0;31m               \u001b[0;32mraise\u001b[0m \u001b[0me\u001b[0m\u001b[0;34m.\u001b[0m\u001b[0mag_error_metadata\u001b[0m\u001b[0;34m.\u001b[0m\u001b[0mto_exception\u001b[0m\u001b[0;34m(\u001b[0m\u001b[0me\u001b[0m\u001b[0;34m)\u001b[0m\u001b[0;34m\u001b[0m\u001b[0;34m\u001b[0m\u001b[0m\n\u001b[0m\u001b[1;32m   1148\u001b[0m             \u001b[0;32melse\u001b[0m\u001b[0;34m:\u001b[0m\u001b[0;34m\u001b[0m\u001b[0;34m\u001b[0m\u001b[0m\n\u001b[1;32m   1149\u001b[0m               \u001b[0;32mraise\u001b[0m\u001b[0;34m\u001b[0m\u001b[0;34m\u001b[0m\u001b[0m\n",
            "\u001b[0;31mValueError\u001b[0m: in user code:\n\n    File \"/usr/local/lib/python3.7/dist-packages/keras/engine/training.py\", line 1021, in train_function  *\n        return step_function(self, iterator)\n    File \"/usr/local/lib/python3.7/dist-packages/keras/engine/training.py\", line 1010, in step_function  **\n        outputs = model.distribute_strategy.run(run_step, args=(data,))\n    File \"/usr/local/lib/python3.7/dist-packages/keras/engine/training.py\", line 1000, in run_step  **\n        outputs = model.train_step(data)\n    File \"/usr/local/lib/python3.7/dist-packages/keras/engine/training.py\", line 860, in train_step\n        loss = self.compute_loss(x, y, y_pred, sample_weight)\n    File \"/usr/local/lib/python3.7/dist-packages/keras/engine/training.py\", line 919, in compute_loss\n        y, y_pred, sample_weight, regularization_losses=self.losses)\n    File \"/usr/local/lib/python3.7/dist-packages/keras/engine/compile_utils.py\", line 201, in __call__\n        loss_value = loss_obj(y_t, y_p, sample_weight=sw)\n    File \"/usr/local/lib/python3.7/dist-packages/keras/losses.py\", line 141, in __call__\n        losses = call_fn(y_true, y_pred)\n    File \"/usr/local/lib/python3.7/dist-packages/keras/losses.py\", line 245, in call  **\n        return ag_fn(y_true, y_pred, **self._fn_kwargs)\n    File \"/usr/local/lib/python3.7/dist-packages/keras/losses.py\", line 1932, in binary_crossentropy\n        backend.binary_crossentropy(y_true, y_pred, from_logits=from_logits),\n    File \"/usr/local/lib/python3.7/dist-packages/keras/backend.py\", line 5247, in binary_crossentropy\n        return tf.nn.sigmoid_cross_entropy_with_logits(labels=target, logits=output)\n\n    ValueError: `logits` and `labels` must have the same shape, received ((None, 2) vs (None, 1)).\n"
          ]
        }
      ]
    },
    {
      "cell_type": "code",
      "source": [
        ""
      ],
      "metadata": {
        "id": "G5VDb4G_8Kf8"
      },
      "execution_count": null,
      "outputs": []
    }
  ]
}