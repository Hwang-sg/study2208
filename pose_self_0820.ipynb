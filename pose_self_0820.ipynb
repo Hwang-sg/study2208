{
  "nbformat": 4,
  "nbformat_minor": 0,
  "metadata": {
    "colab": {
      "name": "pose_self.ipynb",
      "provenance": [],
      "collapsed_sections": []
    },
    "kernelspec": {
      "name": "python3",
      "display_name": "Python 3"
    },
    "language_info": {
      "name": "python"
    },
    "accelerator": "GPU",
    "gpuClass": "standard"
  },
  "cells": [
    {
      "cell_type": "markdown",
      "source": [
        "#파일 다운로드\n",
        "\n",
        "\n",
        "```\n",
        "#\n",
        "1. 파일 링크로 부터 다운로드 받기\n",
        "!rm -rf dogs_prepared.tar.gz\n",
        "!wget https://github.com/dhrim/2022_WISET/raw/main/material/deep_learning/dogs_prepared.tar.gz\n",
        "!ls -al  \n",
        "\n",
        "2. 구글 드라이브로 부터 다운로드 받기\n",
        "from google.colab import drive\n",
        "drive.mount(\"구글 드라이브 경로\")\n",
        "%cd 압축 풀 경로\n",
        "!unzip '압축파일 경로'\n",
        "이후에 len(file명) = 압축잘 풀렸나 확인해보기\n",
        "\n",
        "ex) \n",
        "from google.colab import drive\n",
        "drive.mount('/gdrive')\n",
        "\n",
        "\n",
        "3.파일 직접 업로드\n",
        "cd 업로드할 디렉토리명\n",
        "!mkdir 만들 디렉토리명\n",
        "pwd 현재 있는 디렉토리 위치\n",
        "\n",
        "파일 업로드\n",
        "from google.colab import files\n",
        "file_uploaded = files.upload()\n",
        "\n",
        "파일 선택후 업로드 해주면 됨\n",
        "\n",
        "'''\n",
        "\n",
        "\n",
        "\n"
      ],
      "metadata": {
        "id": "VectNIumykfn"
      }
    },
    {
      "cell_type": "code",
      "source": [
        "from google.colab import drive\n",
        "drive.mount('/gdrive')"
      ],
      "metadata": {
        "colab": {
          "base_uri": "https://localhost:8080/"
        },
        "id": "eS2Xp_QB03PO",
        "outputId": "070430a3-882a-415d-8aee-fe2ef2abc141"
      },
      "execution_count": 1,
      "outputs": [
        {
          "output_type": "stream",
          "name": "stdout",
          "text": [
            "Mounted at /gdrive\n"
          ]
        }
      ]
    },
    {
      "cell_type": "code",
      "source": [
        "cd MyDrive"
      ],
      "metadata": {
        "colab": {
          "base_uri": "https://localhost:8080/"
        },
        "id": "OU5GsI9i1Lpy",
        "outputId": "972e908f-fc57-4486-b4db-f7122fb2ed8f"
      },
      "execution_count": 2,
      "outputs": [
        {
          "output_type": "stream",
          "name": "stdout",
          "text": [
            "[Errno 2] No such file or directory: 'MyDrive'\n",
            "/content\n"
          ]
        }
      ]
    },
    {
      "cell_type": "code",
      "source": [
        "!ls -al"
      ],
      "metadata": {
        "colab": {
          "base_uri": "https://localhost:8080/"
        },
        "id": "uDEKCHOzjdZe",
        "outputId": "9927622e-9677-4cc7-d51f-be22224f4a13"
      },
      "execution_count": 5,
      "outputs": [
        {
          "output_type": "stream",
          "name": "stdout",
          "text": [
            "total 16\n",
            "drwxr-xr-x 1 root root 4096 Aug 15 13:44 .\n",
            "drwxr-xr-x 1 root root 4096 Aug 19 14:41 ..\n",
            "drwxr-xr-x 4 root root 4096 Aug 15 13:44 .config\n",
            "drwxr-xr-x 1 root root 4096 Aug 15 13:44 sample_data\n"
          ]
        }
      ]
    },
    {
      "cell_type": "code",
      "source": [
        "cd tmp"
      ],
      "metadata": {
        "colab": {
          "base_uri": "https://localhost:8080/"
        },
        "id": "jWh2noyWjqrM",
        "outputId": "3c741cd4-3984-4001-9e25-60d0743a1a89"
      },
      "execution_count": 17,
      "outputs": [
        {
          "output_type": "stream",
          "name": "stdout",
          "text": [
            "/gdrive/MyDrive/tmp\n"
          ]
        }
      ]
    },
    {
      "cell_type": "code",
      "source": [
        "\n",
        "pwd"
      ],
      "metadata": {
        "colab": {
          "base_uri": "https://localhost:8080/",
          "height": 36
        },
        "id": "2xd_BKtgjufp",
        "outputId": "e8cec35f-14f2-4b74-f9b5-9c93bf7f64f9"
      },
      "execution_count": 18,
      "outputs": [
        {
          "output_type": "execute_result",
          "data": {
            "text/plain": [
              "'/gdrive/MyDrive/tmp'"
            ],
            "application/vnd.google.colaboratory.intrinsic+json": {
              "type": "string"
            }
          },
          "metadata": {},
          "execution_count": 18
        }
      ]
    },
    {
      "cell_type": "code",
      "source": [
        "!ls -al"
      ],
      "metadata": {
        "colab": {
          "base_uri": "https://localhost:8080/"
        },
        "id": "zWu3dlQ0jwmD",
        "outputId": "bbc7abf3-e046-43be-8afc-7c5ca8e31a33"
      },
      "execution_count": 19,
      "outputs": [
        {
          "output_type": "stream",
          "name": "stdout",
          "text": [
            "total 686599\n",
            "drwx------ 2 root root      4096 Aug  5 05:52 flowers_prepared\n",
            "-rw------- 1 root root  62656905 Aug  6 07:25 flowers_prepared2.zip\n",
            "-rw------- 1 root root  62655610 Aug  5 05:42 flowers_prepared.zip\n",
            "-rw------- 1 root root  62587455 Aug  5 05:23 flowers.zip\n",
            "drwx------ 2 root root      4096 Aug 19 06:45 pose_estimiation\n",
            "-rw------- 1 root root  89001555 Aug 18 08:42 pose.zip\n",
            "-rw------- 1 root root    123530 Aug 12 06:55 submission.csv\n",
            "-rw------- 1 root root  57552176 Aug 12 06:57 test.csv.zip\n",
            "-rw------- 1 root root 121986928 Aug 12 06:57 train.csv.zip\n",
            "-rw------- 1 root root    196649 Aug 12 06:57 train_labels.csv\n",
            "-rw------- 1 root root 246305388 Aug 10 04:59 yolov3_custom_last.weights\n"
          ]
        }
      ]
    },
    {
      "cell_type": "code",
      "source": [
        "cd tmp"
      ],
      "metadata": {
        "colab": {
          "base_uri": "https://localhost:8080/"
        },
        "id": "Lyj98c0m1XKC",
        "outputId": "2d53649b-94a0-41c8-f582-a37b94922ca4"
      },
      "execution_count": 4,
      "outputs": [
        {
          "output_type": "stream",
          "name": "stdout",
          "text": [
            "[Errno 2] No such file or directory: 'tmp'\n",
            "/content\n"
          ]
        }
      ]
    },
    {
      "cell_type": "code",
      "source": [
        "from google.colab import drive\n",
        "drive.mount('/content/drive')"
      ],
      "metadata": {
        "id": "cRXZZEctjYjH"
      },
      "execution_count": null,
      "outputs": []
    },
    {
      "cell_type": "code",
      "source": [
        "!pwd"
      ],
      "metadata": {
        "colab": {
          "base_uri": "https://localhost:8080/"
        },
        "id": "yTgFTJzPu6KR",
        "outputId": "d136818a-bc7d-41c0-c220-9baf3572aec7"
      },
      "execution_count": 29,
      "outputs": [
        {
          "output_type": "stream",
          "name": "stdout",
          "text": [
            "/content/drive/My Drive/tmp\n"
          ]
        }
      ]
    },
    {
      "cell_type": "code",
      "source": [
        "%cd tmp\n",
        "!unzip '/content/drive/MyDrive/tmp/pose.zip'"
      ],
      "metadata": {
        "colab": {
          "base_uri": "https://localhost:8080/"
        },
        "id": "u0uRa4sx2Bas",
        "outputId": "efe42274-f890-4a72-9893-3261c82dd491"
      },
      "execution_count": 30,
      "outputs": [
        {
          "output_type": "stream",
          "name": "stdout",
          "text": [
            "[Errno 107] Transport endpoint is not connected: 'tmp'\n",
            "/content/drive/MyDrive/tmp\n",
            "unzip:  cannot find or open /content/drive/MyDrive/tmp/pose.zip, /content/drive/MyDrive/tmp/pose.zip.zip or /content/drive/MyDrive/tmp/pose.zip.ZIP.\n"
          ]
        }
      ]
    },
    {
      "cell_type": "code",
      "source": [
        "cd pose_estimiation #와중에 이름잘못저장함.. "
      ],
      "metadata": {
        "colab": {
          "base_uri": "https://localhost:8080/"
        },
        "id": "5Qu2K7cgkrbB",
        "outputId": "db2420bf-513c-4a07-a590-da4d2956c4c0"
      },
      "execution_count": 21,
      "outputs": [
        {
          "output_type": "stream",
          "name": "stdout",
          "text": [
            "/gdrive/MyDrive/tmp/pose_estimiation\n"
          ]
        }
      ]
    },
    {
      "cell_type": "code",
      "source": [
        "cd train"
      ],
      "metadata": {
        "colab": {
          "base_uri": "https://localhost:8080/"
        },
        "id": "ymwPZmqtkwWd",
        "outputId": "83020325-24d2-49fb-9b2e-a7b30b12e9f8"
      },
      "execution_count": 22,
      "outputs": [
        {
          "output_type": "stream",
          "name": "stdout",
          "text": [
            "/gdrive/MyDrive/tmp/pose_estimiation/train\n"
          ]
        }
      ]
    },
    {
      "cell_type": "code",
      "source": [
        "cd good"
      ],
      "metadata": {
        "colab": {
          "base_uri": "https://localhost:8080/"
        },
        "id": "Bbuy1SpHkyxx",
        "outputId": "2eb33d19-e33f-4acb-8770-b9ab0f8180ce"
      },
      "execution_count": 23,
      "outputs": [
        {
          "output_type": "stream",
          "name": "stdout",
          "text": [
            "/gdrive/MyDrive/tmp/pose_estimiation/train/good\n"
          ]
        }
      ]
    },
    {
      "cell_type": "code",
      "source": [
        "!ls -al"
      ],
      "metadata": {
        "id": "cv-mg4nhk0yJ"
      },
      "execution_count": null,
      "outputs": []
    },
    {
      "cell_type": "code",
      "source": [
        "mv 5 pose_estimiation\n",
        "#5 폴더를 pose_estimation으로 바꾼다(rename)\n"
      ],
      "metadata": {
        "id": "xgi8geCS2Lpe"
      },
      "execution_count": 16,
      "outputs": []
    },
    {
      "cell_type": "markdown",
      "source": [
        "#Train - Test 데이터 나눠주기\n",
        "\n",
        "\n",
        "\n",
        "```\n",
        "1. split folder ratio 사용\n",
        "!pip install split-folders\n",
        "import splitfolders\n",
        "\n",
        "#splitfolders.ratio('인풋경로',output='output경로' ,seed=77, ratio= (0.8,0.1,0.1)) \n",
        "#처음폴더를 output foloder(없다면 생성해준후 실행)로 train-valid-test 데이터를 0.8,0.1,0.1의 비율로 나눠줘\n",
        "\n",
        "# splitfolders.ratio('/content/drive/MyDrive/tmp/pose_estimiation/bad',)\n",
        "\n",
        "2. 뒷자리 9 0 을 옮겨줌(대략 8:2로 나눠줌)\n",
        "```\n",
        "\n"
      ],
      "metadata": {
        "id": "e2_S78dA208M"
      }
    },
    {
      "cell_type": "markdown",
      "source": [
        "##Linux 파일이동 mv\n",
        "* 여러개 파일 한꺼번에 이동시키기 \n",
        "\n",
        "mv [이동 대상1] [이동 대상2] [이동 대상3] ..... [이동 할 경로]\n",
        "\n",
        "ex) mv test1.txt test2.txt test3.txt /user/.\n",
        "\n",
        "현재 위치의 모든 파일 이동\n",
        "\n",
        "mv * [이동 할 경로]\n",
        "\n",
        "ex) : mv -r * /user/.\n",
        "\n",
        "* rename\n",
        "mv 기존 파일명 새로운 파일명 (같은 폴더로의 이동이라 이름만 변경된다)"
      ],
      "metadata": {
        "id": "u-e8N8cyBqUu"
      }
    },
    {
      "cell_type": "code",
      "source": [
        ""
      ],
      "metadata": {
        "id": "G_B3fXubAIHG"
      },
      "execution_count": null,
      "outputs": []
    },
    {
      "cell_type": "code",
      "source": [
        "#파일 나눠주기 전 한 폴더로 모으기 \n",
        "#코드 어떻게 해야할지몰라서 직접 나눠줌 "
      ],
      "metadata": {
        "colab": {
          "base_uri": "https://localhost:8080/",
          "height": 138
        },
        "id": "gdXB8nTy5rFf",
        "outputId": "b3957a38-85a8-41bc-dab6-dd6e48fb8fd5"
      },
      "execution_count": 25,
      "outputs": [
        {
          "output_type": "error",
          "ename": "SyntaxError",
          "evalue": "ignored",
          "traceback": [
            "\u001b[0;36m  File \u001b[0;32m\"<ipython-input-25-b4b3b349c908>\"\u001b[0;36m, line \u001b[0;32m2\u001b[0m\n\u001b[0;31m    mv bad/1/al bad\u001b[0m\n\u001b[0m         ^\u001b[0m\n\u001b[0;31mSyntaxError\u001b[0m\u001b[0;31m:\u001b[0m invalid syntax\n"
          ]
        }
      ]
    },
    {
      "cell_type": "code",
      "source": [
        "mv *9.jpg  /gdrive/MyDrive/tmp/pose_estimiation/test/good/"
      ],
      "metadata": {
        "id": "GPPHhiMYkc9H"
      },
      "execution_count": 28,
      "outputs": []
    },
    {
      "cell_type": "code",
      "source": [
        "mv *0.jpg  /gdrive/MyDrive/tmp/pose_estimiation/test/good/"
      ],
      "metadata": {
        "id": "-CoeJYxYlbye"
      },
      "execution_count": 29,
      "outputs": []
    },
    {
      "cell_type": "code",
      "source": [
        "cd .."
      ],
      "metadata": {
        "colab": {
          "base_uri": "https://localhost:8080/"
        },
        "id": "gwGoM5cWlhfp",
        "outputId": "28fd5696-5997-4d92-ce22-84db59e094d4"
      },
      "execution_count": 30,
      "outputs": [
        {
          "output_type": "stream",
          "name": "stdout",
          "text": [
            "/gdrive/MyDrive/tmp/pose_estimiation/train\n"
          ]
        }
      ]
    },
    {
      "cell_type": "code",
      "source": [
        "cd bad"
      ],
      "metadata": {
        "colab": {
          "base_uri": "https://localhost:8080/"
        },
        "id": "CifoF0ADlkmg",
        "outputId": "8c3bc389-14dd-41c1-dab6-6eb1a4dc5d7b"
      },
      "execution_count": 31,
      "outputs": [
        {
          "output_type": "stream",
          "name": "stdout",
          "text": [
            "/gdrive/MyDrive/tmp/pose_estimiation/train/bad\n"
          ]
        }
      ]
    },
    {
      "cell_type": "code",
      "source": [
        "mv *9.jpg  /gdrive/MyDrive/tmp/pose_estimiation/test/bad/"
      ],
      "metadata": {
        "id": "4o4hbLkqln3D"
      },
      "execution_count": 32,
      "outputs": []
    },
    {
      "cell_type": "code",
      "source": [
        "mv *0.jpg  /gdrive/MyDrive/tmp/pose_estimiation/test/bad/"
      ],
      "metadata": {
        "id": "SmnwgGjVlqki"
      },
      "execution_count": 33,
      "outputs": []
    },
    {
      "cell_type": "code",
      "source": [
        "!pip uninstall tensorflow \n",
        "!pip install tensorflow==2.8.2"
      ],
      "metadata": {
        "id": "bpQ-4fMu3qkA"
      },
      "execution_count": null,
      "outputs": []
    },
    {
      "cell_type": "markdown",
      "source": [
        "#Vanilla CNN Template\n"
      ],
      "metadata": {
        "id": "icPgphWcyd2u"
      }
    },
    {
      "cell_type": "code",
      "source": [
        "import os\n",
        "\n",
        "import matplotlib.pyplot as plt\n",
        "import numpy as np\n",
        "\n",
        "from tensorflow import keras\n",
        "from tensorflow.keras import optimizers\n",
        "from tensorflow.keras import models\n",
        "from tensorflow.keras import layers\n",
        "from tensorflow.keras import optimizers\n",
        "from tensorflow.keras import Sequential\n",
        "from tensorflow.keras.layers import Dropout, Flatten, Dense, BatchNormalization, Conv2D, MaxPooling2D, Input\n",
        "from tensorflow.keras import Model\n",
        "from tensorflow.keras.preprocessing.image import ImageDataGenerator\n",
        "from tensorflow.keras.preprocessing.image import load_img\n",
        "from tensorflow.keras.preprocessing.image import img_to_array\n",
        "\n",
        "from tensorflow.keras.applications import efficientnet\n",
        "from tensorflow.keras.applications import EfficientNetB2\n",
        "import tensorflow as tf\n",
        "model = keras.Sequential()\n",
        "model.add(Input((224,224,3)))\n",
        "model.add(Conv2D(64, (3,3), padding='same'))\n",
        "model.add(Conv2D(64, (3,3), padding='same'))\n",
        "model.add(MaxPooling2D())\n",
        "model.add(Conv2D(128, (3,3), padding='same'))\n",
        "model.add(Conv2D(128, (3,3), padding='same'))\n",
        "model.add(MaxPooling2D())\n",
        "model.add(Conv2D(256, (3,3), padding='same'))\n",
        "model.add(Conv2D(256, (3,3), padding='same'))\n",
        "model.add(Conv2D(256, (3,3), padding='same'))\n",
        "model.add(MaxPooling2D())\n",
        "model.add(Conv2D(512, (3,3), padding='same'))\n",
        "model.add(Conv2D(512, (3,3), padding='same'))\n",
        "model.add(Conv2D(512, (3,3), padding='same'))\n",
        "model.add(MaxPooling2D())\n",
        "model.add(Conv2D(512, (3,3), padding='same'))\n",
        "model.add(Conv2D(512, (3,3), padding='same'))\n",
        "model.add(Conv2D(512, (3,3), padding='same'))\n",
        "model.add(MaxPooling2D())\n",
        "model.add(Flatten())\n",
        "model.add(Dense(64, activation='relu'))\n",
        "model.add(BatchNormalization())\n",
        "model.add(Dense(1, activation='sigmoid'))\n",
        "\n",
        "#다중분류\n",
        "#model.compile(loss='sparse_categorical_crossentropy', optimizer=\"RMSprop\", metrics=['acc'])\n",
        "#good,bad만 분류하면되니까 2진분류\n",
        "model.compile(loss='binary_crossentropy', optimizer=\"RMSprop\", metrics=['acc'])\n",
        "model.summary()\n",
        "\n",
        "def normalize(image):\n",
        "  return image/255.0\n",
        "\n",
        "preprocessor = normalize\n",
        "BATCH_SIZE = 32\n",
        "# BATCH_SIZE = 64\n",
        "\n",
        "train_data_generator = ImageDataGenerator(\n",
        "      # rotation_range=10,\n",
        "      rotation_range=2, #bad,good2개니까 2\n",
        "      width_shift_range=0.1,\n",
        "      height_shift_range=0.1,\n",
        "      horizontal_flip=True,\n",
        "      vertical_flip=False,\n",
        "      preprocessing_function=preprocessor\n",
        ").flow_from_directory(\n",
        "      \"/gdrive/MyDrive/tmp/pose_estimiation/train\",#학습시킬 경로\n",
        "      target_size=(224,224),\n",
        "      batch_size=BATCH_SIZE,\n",
        "      class_mode='sparse'\n",
        ")\n",
        "\n",
        "test_data_generator = ImageDataGenerator(\n",
        "      preprocessing_function=preprocessor\n",
        ").flow_from_directory(\n",
        "      \"/gdrive/MyDrive/tmp/pose_estimiation/test\", #test경로\n",
        "      target_size=(224,224),\n",
        "      batch_size=BATCH_SIZE,\n",
        "      class_mode='sparse'\n",
        ")\n",
        "\n",
        "\n",
        "history = model.fit(\n",
        "      train_data_generator,\n",
        "      validation_data=test_data_generator,\n",
        "      steps_per_epoch=train_data_generator.samples/BATCH_SIZE,\n",
        "      validation_steps=test_data_generator.samples/BATCH_SIZE,      \n",
        "      epochs=100\n",
        ")\n",
        "\n",
        "\n",
        "plt.plot(history.history['loss'])\n",
        "plt.plot(history.history['val_loss'])\n",
        "plt.show()\n",
        "\n",
        "\n",
        "loss, acc = model.evaluate(\n",
        "      test_data_generator,\n",
        "      steps=test_data_generator.samples/BATCH_SIZE\n",
        ")\n",
        "print(\"loss=\", loss)\n",
        "print(\"acc=\", acc)\n",
        "\n",
        "\n",
        "\n",
        "test_x, test_y = next(iter(test_data_generator))\n",
        "y_ = model.predict(test_x)\n",
        "predicted = np.argmax(y_, axis=-1)\n",
        "\n",
        "plt.plot(test_y[:100], \"o\")\n",
        "plt.plot(predicted[:100], '.')\n",
        "plt.show()"
      ],
      "metadata": {
        "colab": {
          "base_uri": "https://localhost:8080/",
          "height": 1000
        },
        "id": "7PjQAtOCyco0",
        "outputId": "49467750-5892-4c89-c1cf-41dfc7c09bae"
      },
      "execution_count": 14,
      "outputs": [
        {
          "output_type": "stream",
          "name": "stdout",
          "text": [
            "Model: \"sequential_8\"\n",
            "_________________________________________________________________\n",
            " Layer (type)                Output Shape              Param #   \n",
            "=================================================================\n",
            " conv2d_104 (Conv2D)         (None, 224, 224, 64)      1792      \n",
            "                                                                 \n",
            " conv2d_105 (Conv2D)         (None, 224, 224, 64)      36928     \n",
            "                                                                 \n",
            " max_pooling2d_40 (MaxPoolin  (None, 112, 112, 64)     0         \n",
            " g2D)                                                            \n",
            "                                                                 \n",
            " conv2d_106 (Conv2D)         (None, 112, 112, 128)     73856     \n",
            "                                                                 \n",
            " conv2d_107 (Conv2D)         (None, 112, 112, 128)     147584    \n",
            "                                                                 \n",
            " max_pooling2d_41 (MaxPoolin  (None, 56, 56, 128)      0         \n",
            " g2D)                                                            \n",
            "                                                                 \n",
            " conv2d_108 (Conv2D)         (None, 56, 56, 256)       295168    \n",
            "                                                                 \n",
            " conv2d_109 (Conv2D)         (None, 56, 56, 256)       590080    \n",
            "                                                                 \n",
            " conv2d_110 (Conv2D)         (None, 56, 56, 256)       590080    \n",
            "                                                                 \n",
            " max_pooling2d_42 (MaxPoolin  (None, 28, 28, 256)      0         \n",
            " g2D)                                                            \n",
            "                                                                 \n",
            " conv2d_111 (Conv2D)         (None, 28, 28, 512)       1180160   \n",
            "                                                                 \n",
            " conv2d_112 (Conv2D)         (None, 28, 28, 512)       2359808   \n",
            "                                                                 \n",
            " conv2d_113 (Conv2D)         (None, 28, 28, 512)       2359808   \n",
            "                                                                 \n",
            " max_pooling2d_43 (MaxPoolin  (None, 14, 14, 512)      0         \n",
            " g2D)                                                            \n",
            "                                                                 \n",
            " conv2d_114 (Conv2D)         (None, 14, 14, 512)       2359808   \n",
            "                                                                 \n",
            " conv2d_115 (Conv2D)         (None, 14, 14, 512)       2359808   \n",
            "                                                                 \n",
            " conv2d_116 (Conv2D)         (None, 14, 14, 512)       2359808   \n",
            "                                                                 \n",
            " max_pooling2d_44 (MaxPoolin  (None, 7, 7, 512)        0         \n",
            " g2D)                                                            \n",
            "                                                                 \n",
            " flatten_8 (Flatten)         (None, 25088)             0         \n",
            "                                                                 \n",
            " dense_16 (Dense)            (None, 64)                1605696   \n",
            "                                                                 \n",
            " batch_normalization_8 (Batc  (None, 64)               256       \n",
            " hNormalization)                                                 \n",
            "                                                                 \n",
            " dense_17 (Dense)            (None, 1)                 65        \n",
            "                                                                 \n",
            "=================================================================\n",
            "Total params: 16,320,705\n",
            "Trainable params: 16,320,577\n",
            "Non-trainable params: 128\n",
            "_________________________________________________________________\n",
            "Found 541 images belonging to 2 classes.\n",
            "Found 62 images belonging to 2 classes.\n",
            "Epoch 1/100\n",
            "16/16 [==============================] - 16s 845ms/step - loss: 0.7978 - acc: 0.6433 - val_loss: 0.7332 - val_acc: 0.4839\n",
            "Epoch 2/100\n",
            "16/16 [==============================] - 13s 762ms/step - loss: 0.5771 - acc: 0.7098 - val_loss: 6.6382 - val_acc: 0.5323\n",
            "Epoch 3/100\n",
            "16/16 [==============================] - 13s 736ms/step - loss: 0.6375 - acc: 0.6488 - val_loss: 0.5620 - val_acc: 0.8065\n",
            "Epoch 4/100\n",
            "16/16 [==============================] - 13s 746ms/step - loss: 0.5314 - acc: 0.7449 - val_loss: 3.3458 - val_acc: 0.5323\n",
            "Epoch 5/100\n",
            "16/16 [==============================] - 13s 742ms/step - loss: 0.4505 - acc: 0.7763 - val_loss: 0.7407 - val_acc: 0.8226\n",
            "Epoch 6/100\n",
            "16/16 [==============================] - 14s 824ms/step - loss: 0.5724 - acc: 0.7652 - val_loss: 20.3039 - val_acc: 0.4677\n",
            "Epoch 7/100\n",
            "16/16 [==============================] - 13s 748ms/step - loss: 0.4847 - acc: 0.8041 - val_loss: 11.0572 - val_acc: 0.4677\n",
            "Epoch 8/100\n",
            "16/16 [==============================] - 13s 737ms/step - loss: 0.1413 - acc: 0.9519 - val_loss: 5.7484 - val_acc: 0.4677\n",
            "Epoch 9/100\n",
            "16/16 [==============================] - 13s 756ms/step - loss: 0.0917 - acc: 0.9686 - val_loss: 10.9082 - val_acc: 0.4677\n",
            "Epoch 10/100\n",
            "16/16 [==============================] - 15s 884ms/step - loss: 0.0653 - acc: 0.9797 - val_loss: 1.3401 - val_acc: 0.7097\n",
            "Epoch 11/100\n",
            "16/16 [==============================] - 13s 745ms/step - loss: 0.0682 - acc: 0.9778 - val_loss: 4.1902 - val_acc: 0.4839\n",
            "Epoch 12/100\n",
            "16/16 [==============================] - 13s 750ms/step - loss: 0.0984 - acc: 0.9667 - val_loss: 7.6457 - val_acc: 0.4677\n",
            "Epoch 13/100\n",
            "16/16 [==============================] - 13s 737ms/step - loss: 0.0403 - acc: 0.9852 - val_loss: 1.3126 - val_acc: 0.7419\n",
            "Epoch 14/100\n",
            "16/16 [==============================] - 14s 843ms/step - loss: 0.1073 - acc: 0.9797 - val_loss: 2.8296 - val_acc: 0.4839\n",
            "Epoch 15/100\n",
            "16/16 [==============================] - 13s 742ms/step - loss: 0.0271 - acc: 0.9908 - val_loss: 1.9255 - val_acc: 0.5323\n",
            "Epoch 16/100\n",
            "16/16 [==============================] - 13s 757ms/step - loss: 0.0399 - acc: 0.9852 - val_loss: 0.3059 - val_acc: 0.8871\n",
            "Epoch 17/100\n",
            "16/16 [==============================] - 13s 741ms/step - loss: 0.0315 - acc: 0.9908 - val_loss: 1.2107 - val_acc: 0.6613\n",
            "Epoch 18/100\n",
            "16/16 [==============================] - 14s 825ms/step - loss: 0.0336 - acc: 0.9889 - val_loss: 0.4291 - val_acc: 0.9194\n",
            "Epoch 19/100\n",
            "16/16 [==============================] - 13s 734ms/step - loss: 0.0238 - acc: 0.9926 - val_loss: 7.5915 - val_acc: 0.4677\n",
            "Epoch 20/100\n",
            "16/16 [==============================] - 13s 741ms/step - loss: 0.0458 - acc: 0.9834 - val_loss: 6.0632 - val_acc: 0.4839\n",
            "Epoch 21/100\n",
            "16/16 [==============================] - 13s 740ms/step - loss: 0.0318 - acc: 0.9852 - val_loss: 0.4615 - val_acc: 0.8871\n",
            "Epoch 22/100\n",
            "16/16 [==============================] - 13s 741ms/step - loss: 0.0203 - acc: 0.9963 - val_loss: 1.0705 - val_acc: 0.7419\n",
            "Epoch 23/100\n",
            "16/16 [==============================] - 13s 756ms/step - loss: 0.0053 - acc: 1.0000 - val_loss: 0.4673 - val_acc: 0.7742\n",
            "Epoch 24/100\n",
            "16/16 [==============================] - 14s 811ms/step - loss: 0.0502 - acc: 0.9815 - val_loss: 4.0548 - val_acc: 0.4677\n",
            "Epoch 25/100\n",
            "16/16 [==============================] - 13s 747ms/step - loss: 0.0159 - acc: 0.9963 - val_loss: 0.1962 - val_acc: 0.9355\n",
            "Epoch 26/100\n",
            "16/16 [==============================] - 12s 728ms/step - loss: 0.0092 - acc: 0.9982 - val_loss: 3.7152e-05 - val_acc: 1.0000\n",
            "Epoch 27/100\n",
            "16/16 [==============================] - 13s 747ms/step - loss: 0.0227 - acc: 0.9945 - val_loss: 0.0809 - val_acc: 0.9677\n",
            "Epoch 28/100\n",
            "16/16 [==============================] - 14s 808ms/step - loss: 0.0248 - acc: 0.9852 - val_loss: 0.1804 - val_acc: 0.9839\n",
            "Epoch 29/100\n",
            "16/16 [==============================] - 13s 747ms/step - loss: 0.0153 - acc: 0.9945 - val_loss: 3.7947 - val_acc: 0.4839\n",
            "Epoch 30/100\n",
            "16/16 [==============================] - 12s 727ms/step - loss: 0.0105 - acc: 0.9963 - val_loss: 2.3052 - val_acc: 0.4839\n",
            "Epoch 31/100\n",
            "16/16 [==============================] - 14s 822ms/step - loss: 0.0332 - acc: 0.9871 - val_loss: 0.2287 - val_acc: 0.8871\n",
            "Epoch 32/100\n",
            "16/16 [==============================] - 12s 729ms/step - loss: 0.0061 - acc: 1.0000 - val_loss: 0.0170 - val_acc: 1.0000\n",
            "Epoch 33/100\n",
            "16/16 [==============================] - 14s 826ms/step - loss: 0.0040 - acc: 1.0000 - val_loss: 0.4168 - val_acc: 0.8710\n",
            "Epoch 34/100\n",
            "16/16 [==============================] - 13s 735ms/step - loss: 0.0082 - acc: 0.9963 - val_loss: 0.0254 - val_acc: 0.9839\n",
            "Epoch 35/100\n",
            "16/16 [==============================] - 13s 735ms/step - loss: 0.0184 - acc: 0.9945 - val_loss: 0.0090 - val_acc: 1.0000\n",
            "Epoch 36/100\n",
            "16/16 [==============================] - 13s 744ms/step - loss: 0.0133 - acc: 0.9963 - val_loss: 1.1753 - val_acc: 0.8710\n",
            "Epoch 37/100\n",
            "16/16 [==============================] - 14s 805ms/step - loss: 0.0156 - acc: 0.9963 - val_loss: 0.1454 - val_acc: 0.9516\n",
            "Epoch 38/100\n",
            "16/16 [==============================] - 13s 748ms/step - loss: 0.0120 - acc: 0.9963 - val_loss: 0.2188 - val_acc: 0.8871\n",
            "Epoch 39/100\n",
            "16/16 [==============================] - 12s 733ms/step - loss: 0.0130 - acc: 0.9926 - val_loss: 0.0073 - val_acc: 1.0000\n",
            "Epoch 40/100\n",
            "16/16 [==============================] - 13s 749ms/step - loss: 0.0119 - acc: 0.9982 - val_loss: 0.4809 - val_acc: 0.8065\n",
            "Epoch 41/100\n",
            "16/16 [==============================] - 12s 730ms/step - loss: 0.0147 - acc: 0.9982 - val_loss: 0.0139 - val_acc: 0.9839\n",
            "Epoch 42/100\n",
            "16/16 [==============================] - 14s 817ms/step - loss: 0.0120 - acc: 0.9945 - val_loss: 0.0029 - val_acc: 1.0000\n",
            "Epoch 43/100\n",
            "16/16 [==============================] - 13s 734ms/step - loss: 0.0028 - acc: 0.9982 - val_loss: 0.0580 - val_acc: 0.9839\n",
            "Epoch 44/100\n",
            "16/16 [==============================] - 13s 743ms/step - loss: 0.0089 - acc: 0.9982 - val_loss: 0.0016 - val_acc: 1.0000\n",
            "Epoch 45/100\n",
            "16/16 [==============================] - 12s 725ms/step - loss: 0.0251 - acc: 0.9945 - val_loss: 0.7246 - val_acc: 0.7742\n",
            "Epoch 46/100\n",
            "16/16 [==============================] - 12s 731ms/step - loss: 0.0044 - acc: 0.9982 - val_loss: 0.9082 - val_acc: 0.7258\n",
            "Epoch 47/100\n",
            "16/16 [==============================] - 14s 819ms/step - loss: 0.0071 - acc: 0.9963 - val_loss: 0.0013 - val_acc: 1.0000\n",
            "Epoch 48/100\n",
            "16/16 [==============================] - 13s 735ms/step - loss: 0.0181 - acc: 0.9908 - val_loss: 0.0566 - val_acc: 0.9839\n",
            "Epoch 49/100\n",
            "16/16 [==============================] - 13s 744ms/step - loss: 0.0019 - acc: 1.0000 - val_loss: 0.0044 - val_acc: 1.0000\n",
            "Epoch 50/100\n",
            "16/16 [==============================] - 12s 726ms/step - loss: 0.0033 - acc: 1.0000 - val_loss: 0.1840 - val_acc: 0.9032\n",
            "Epoch 51/100\n",
            "16/16 [==============================] - 13s 741ms/step - loss: 5.4164e-04 - acc: 1.0000 - val_loss: 0.1108 - val_acc: 0.9677\n",
            "Epoch 52/100\n",
            "16/16 [==============================] - 14s 812ms/step - loss: 0.0101 - acc: 0.9945 - val_loss: 0.0491 - val_acc: 0.9839\n",
            "Epoch 53/100\n",
            "16/16 [==============================] - 14s 831ms/step - loss: 0.0020 - acc: 1.0000 - val_loss: 0.7432 - val_acc: 0.7581\n",
            "Epoch 54/100\n",
            "16/16 [==============================] - 12s 734ms/step - loss: 0.0323 - acc: 0.9926 - val_loss: 0.0062 - val_acc: 1.0000\n",
            "Epoch 55/100\n",
            "16/16 [==============================] - 13s 787ms/step - loss: 0.0019 - acc: 1.0000 - val_loss: 0.0482 - val_acc: 0.9839\n",
            "Epoch 56/100\n",
            "16/16 [==============================] - 13s 732ms/step - loss: 0.0015 - acc: 1.0000 - val_loss: 1.2571e-04 - val_acc: 1.0000\n",
            "Epoch 57/100\n",
            "16/16 [==============================] - 13s 756ms/step - loss: 0.0026 - acc: 1.0000 - val_loss: 0.0057 - val_acc: 1.0000\n",
            "Epoch 58/100\n",
            "16/16 [==============================] - 12s 727ms/step - loss: 0.0138 - acc: 0.9963 - val_loss: 0.0686 - val_acc: 0.9839\n",
            "Epoch 59/100\n",
            "16/16 [==============================] - 13s 746ms/step - loss: 0.0023 - acc: 1.0000 - val_loss: 0.0446 - val_acc: 0.9677\n",
            "Epoch 60/100\n",
            "16/16 [==============================] - 12s 733ms/step - loss: 0.0012 - acc: 1.0000 - val_loss: 0.0043 - val_acc: 1.0000\n",
            "Epoch 61/100\n",
            "16/16 [==============================] - 14s 830ms/step - loss: 0.0035 - acc: 1.0000 - val_loss: 0.2293 - val_acc: 0.8871\n",
            "Epoch 62/100\n",
            "16/16 [==============================] - 12s 733ms/step - loss: 4.8219e-04 - acc: 1.0000 - val_loss: 0.1196 - val_acc: 0.9677\n",
            "Epoch 63/100\n",
            "16/16 [==============================] - 13s 743ms/step - loss: 8.8957e-04 - acc: 1.0000 - val_loss: 0.6690 - val_acc: 0.7581\n",
            "Epoch 64/100\n",
            "16/16 [==============================] - 12s 729ms/step - loss: 0.0089 - acc: 0.9963 - val_loss: 0.2122 - val_acc: 0.8226\n",
            "Epoch 65/100\n",
            "16/16 [==============================] - 14s 815ms/step - loss: 4.3427e-04 - acc: 1.0000 - val_loss: 0.2117 - val_acc: 0.8871\n",
            "Epoch 66/100\n",
            "16/16 [==============================] - 13s 747ms/step - loss: 3.6398e-04 - acc: 1.0000 - val_loss: 1.4085 - val_acc: 0.6290\n",
            "Epoch 67/100\n",
            "16/16 [==============================] - 12s 730ms/step - loss: 0.0076 - acc: 0.9963 - val_loss: 4.2158 - val_acc: 0.5323\n",
            "Epoch 68/100\n",
            "16/16 [==============================] - 13s 742ms/step - loss: 0.0364 - acc: 0.9926 - val_loss: 0.0990 - val_acc: 0.9194\n",
            "Epoch 69/100\n",
            "16/16 [==============================] - 12s 728ms/step - loss: 0.0098 - acc: 0.9963 - val_loss: 0.0023 - val_acc: 1.0000\n",
            "Epoch 70/100\n",
            "16/16 [==============================] - 14s 824ms/step - loss: 2.4352e-04 - acc: 1.0000 - val_loss: 0.0060 - val_acc: 1.0000\n",
            "Epoch 71/100\n",
            "16/16 [==============================] - 12s 727ms/step - loss: 0.0094 - acc: 0.9945 - val_loss: 2.5694 - val_acc: 0.7258\n",
            "Epoch 72/100\n",
            "16/16 [==============================] - 13s 754ms/step - loss: 0.0023 - acc: 1.0000 - val_loss: 4.2883 - val_acc: 0.5645\n",
            "Epoch 73/100\n",
            "16/16 [==============================] - 12s 726ms/step - loss: 0.0108 - acc: 0.9945 - val_loss: 0.8511 - val_acc: 0.7742\n",
            "Epoch 74/100\n",
            "16/16 [==============================] - 14s 827ms/step - loss: 7.4528e-04 - acc: 1.0000 - val_loss: 0.8185 - val_acc: 0.8871\n",
            "Epoch 75/100\n",
            "16/16 [==============================] - 14s 787ms/step - loss: 6.3502e-04 - acc: 1.0000 - val_loss: 1.5033 - val_acc: 0.7419\n",
            "Epoch 76/100\n",
            "16/16 [==============================] - 13s 744ms/step - loss: 0.0015 - acc: 1.0000 - val_loss: 3.0916 - val_acc: 0.6935\n",
            "Epoch 77/100\n",
            "16/16 [==============================] - 12s 727ms/step - loss: 0.0127 - acc: 0.9982 - val_loss: 0.4699 - val_acc: 0.7742\n",
            "Epoch 78/100\n",
            "16/16 [==============================] - 12s 732ms/step - loss: 0.0011 - acc: 1.0000 - val_loss: 0.0234 - val_acc: 1.0000\n",
            "Epoch 79/100\n",
            "16/16 [==============================] - 14s 806ms/step - loss: 6.3227e-04 - acc: 1.0000 - val_loss: 0.4620 - val_acc: 0.8710\n",
            "Epoch 80/100\n",
            "16/16 [==============================] - 13s 752ms/step - loss: 0.3833 - acc: 0.7505 - val_loss: nan - val_acc: 0.4677\n",
            "Epoch 81/100\n",
            "16/16 [==============================] - 12s 726ms/step - loss: 0.6924 - acc: 0.4824 - val_loss: nan - val_acc: 0.4677\n",
            "Epoch 82/100\n",
            "16/16 [==============================] - 13s 740ms/step - loss: 0.6921 - acc: 0.4806 - val_loss: nan - val_acc: 0.4677\n",
            "Epoch 83/100\n",
            "16/16 [==============================] - 14s 809ms/step - loss: 0.6819 - acc: 0.5434 - val_loss: nan - val_acc: 0.4677\n",
            "Epoch 84/100\n",
            "16/16 [==============================] - 13s 737ms/step - loss: 0.6919 - acc: 0.5139 - val_loss: nan - val_acc: 0.4677\n",
            "Epoch 85/100\n",
            "16/16 [==============================] - 12s 728ms/step - loss: 0.6935 - acc: 0.4991 - val_loss: nan - val_acc: 0.4677\n",
            "Epoch 86/100\n",
            "16/16 [==============================] - 12s 725ms/step - loss: 0.6933 - acc: 0.5139 - val_loss: nan - val_acc: 0.4677\n",
            "Epoch 87/100\n",
            "16/16 [==============================] - 13s 739ms/step - loss: 0.6902 - acc: 0.5046 - val_loss: nan - val_acc: 0.4677\n",
            "Epoch 88/100\n",
            "16/16 [==============================] - 12s 726ms/step - loss: 0.6911 - acc: 0.5194 - val_loss: nan - val_acc: 0.4677\n",
            "Epoch 89/100\n",
            "16/16 [==============================] - 14s 823ms/step - loss: 0.6924 - acc: 0.5213 - val_loss: nan - val_acc: 0.4677\n",
            "Epoch 90/100\n",
            "16/16 [==============================] - 12s 728ms/step - loss: 0.7001 - acc: 0.5083 - val_loss: nan - val_acc: 0.4677\n",
            "Epoch 91/100\n",
            "16/16 [==============================] - 13s 742ms/step - loss: 0.6935 - acc: 0.5139 - val_loss: nan - val_acc: 0.4677\n",
            "Epoch 92/100\n",
            "16/16 [==============================] - 12s 724ms/step - loss: 0.6927 - acc: 0.5157 - val_loss: nan - val_acc: 0.4677\n",
            "Epoch 93/100\n",
            "16/16 [==============================] - 14s 822ms/step - loss: 0.6884 - acc: 0.5231 - val_loss: nan - val_acc: 0.4677\n",
            "Epoch 94/100\n",
            "16/16 [==============================] - 12s 726ms/step - loss: 0.6931 - acc: 0.5102 - val_loss: nan - val_acc: 0.4677\n",
            "Epoch 95/100\n",
            "16/16 [==============================] - 13s 737ms/step - loss: 0.6932 - acc: 0.5139 - val_loss: nan - val_acc: 0.4677\n",
            "Epoch 96/100\n",
            "16/16 [==============================] - 14s 811ms/step - loss: 0.6930 - acc: 0.5139 - val_loss: nan - val_acc: 0.4677\n",
            "Epoch 97/100\n",
            "16/16 [==============================] - 13s 735ms/step - loss: 0.6936 - acc: 0.5102 - val_loss: nan - val_acc: 0.4677\n",
            "Epoch 98/100\n",
            "16/16 [==============================] - 14s 815ms/step - loss: 0.6932 - acc: 0.5139 - val_loss: nan - val_acc: 0.4677\n",
            "Epoch 99/100\n",
            "16/16 [==============================] - 12s 728ms/step - loss: 0.6935 - acc: 0.5102 - val_loss: nan - val_acc: 0.4677\n",
            "Epoch 100/100\n",
            "16/16 [==============================] - 13s 742ms/step - loss: 0.6931 - acc: 0.5139 - val_loss: nan - val_acc: 0.4677\n"
          ]
        },
        {
          "output_type": "display_data",
          "data": {
            "text/plain": [
              "<Figure size 432x288 with 1 Axes>"
            ],
            "image/png": "[encoded data removed]"
          },
          "metadata": {
            "needs_background": "light"
          }
        },
        {
          "output_type": "stream",
          "name": "stdout",
          "text": [
            "1/1 [==============================] - 1s 340ms/step - loss: nan - acc: 0.4677\n",
            "loss= nan\n",
            "acc= 0.4677419364452362\n"
          ]
        },
        {
          "output_type": "display_data",
          "data": {
            "text/plain": [
              "<Figure size 432x288 with 1 Axes>"
            ],
            "image/png": "[encoded data removed]"
          },
          "metadata": {
            "needs_background": "light"
          }
        }
      ]
    },
    {
      "cell_type": "markdown",
      "source": [
        "#오류처리\n",
        "\n",
        "```\n",
        "\n",
        "\n",
        "1. logits and labels must have same size\n",
        "  - 분류문제네요. 네트워크를 고치는 게 아니라, 입력의 타겟 y 를 one-hot 형태로 바꾸어야 할 겁니다. 0부터 6까지 7가지 클래스가 있으니까 네트워크 말단도 7개의 아웃풋이 되어야 하고요.(다른사람 질문 답변)\n",
        "\n",
        "2. Cannot convert 0.96875 to EagerTensor of dtype int64\n",
        "\n",
        "encoded_vec = tf.Variable([pos/tf.pow(10000, 2*i/d_model) for pos in range(length) for i in range(d_model)],\n",
        "                             dtype=tf.float32)\n",
        "\n",
        "  - 다른분 질문이라 length등.. 이걸 어떻게 처리해얄지 모르겠다..\n",
        "\n",
        "갯수안많으니 normalize를 빼볼까했는데 이것도 의미없음..\n",
        "\n",
        "int(round(train_it.samples/train_it.batch_size)) ROUND처리..\n",
        "\n",
        "!pip uninstall tensorflow \n",
        "!pip install tensorflow==2.2.0\n",
        "tensorflow버전변경'\n",
        "\n",
        "  -batch_size 32로 변경하고 드디어 학습된다.\n",
        "\n",
        "\n",
        "  3. val_loss nan나옴.. (원인)\n",
        "- learningrate가 너무 높다\n",
        "- input data에 nan이 껴있다.\n",
        "- output size와 데이터가 불일치한다.\n",
        "- log(0)이 어디선가 수행되고 있다.\n",
        "\n",
        "\n",
        "\n",
        "```\n",
        "\n"
      ],
      "metadata": {
        "id": "atqvFJbezLa7"
      }
    },
    {
      "cell_type": "markdown",
      "source": [
        "![val_loss nan.PNG](data:image/png;base64,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)"
      ],
      "metadata": {
        "id": "IgsL_psn_oel"
      }
    },
    {
      "cell_type": "markdown",
      "source": [
        "아마도 러닝레이트를 다르게 주어야 val_loss 가 nan이 되지않고 학습될거같다\n",
        "+ 데이터양이 너무 적어서 증강 해줘야할듯."
      ],
      "metadata": {
        "id": "AA0jN4L4_0VO"
      }
    },
    {
      "cell_type": "code",
      "source": [
        ""
      ],
      "metadata": {
        "id": "G5VDb4G_8Kf8"
      },
      "execution_count": null,
      "outputs": []
    }
  ]
}